{
 "cells": [
  {
   "cell_type": "markdown",
   "id": "3dd2f27e",
   "metadata": {},
   "source": [
    "# Conférences Python Master TIDE #1\n",
    "\n",
    "## Librairie pandas\n",
    "\n",
    "Dataset des communes françaises : `correspondance-code-insee-code-postal.csv`\n",
    "\n",
    "0) Import\n",
    "- Importer la librairie **pandas**\n",
    "- Utiliser l'option suivante\n",
    "```python\n",
    "pd.set_option(\"display.min_rows\", 16)\n",
    "```\n",
    "\n",
    "1) Ecrire une fonction qui charge le fichier CSV\n",
    "- Uniquement les 11 premières colonnes\n",
    "- Utiliser la colonne \"Code INSEE\" comme index\n",
    "- Trier selon l'index\n",
    "- Pour vérifier, exécuter les tests unitaires\n",
    "\n",
    "```python\n",
    "def lecture_geo():\n",
    "    pass\n",
    "```\n",
    "\n",
    "2) Questions\n",
    "- Combien y a-t-il de départements ?\n",
    "- Quelle commune est la plus haute ?\n",
    "- Quelle commune est la plus peuplée ?\n",
    "- Quelle commune a le nom le plus court ?\n",
    "- Quelle commune a le nom le plus long ?\n",
    "- Quel est le nom de commune le plus fréquent ?\n",
    "- Ecrire une fonction qui recherche les communes se terminant par un motif du type \"-mot1-mot2\" (par exemple \"-SUR-MER\")\n",
    "```python\n",
    "def selection(mot1, mot2):\n",
    "    pass\n",
    "```\n",
    "- Quelles villes contiennent deux \"Z\" (accolés, séparés par une seule lettre, séparés par un nombre quelconque de lettres, séparés par au moins une lettre) ?\n",
    "- Quelles sont les dix terminaisons des noms de communes du type \"-mot1-mot2\" les plus fréquentes ?\n",
    "\n",
    "3) Transformations\n",
    "- Passer la colonne \"Superficie\" en km²\n",
    "- Passer la colonne \"Altitude Moyenne\" en entiers\n",
    "- Modifier la colonne \"Statut\" en categorie ordonnée\n",
    "\n",
    "4) Géographie\n",
    "- Créer une colonne \"CP Ville\" à partir du code postal et du nom de chaque commune\n",
    "- Extraire la latitude et la longitude de la colonne \"geo_point_2d\"\n",
    "- Ecrire une fonction qui retourne le \"CP Ville\" de la commune la plus proche d'une latitude et d'une longitude\n",
    "```python\n",
    "def ville(lat, long):\n",
    "    pass\n",
    "```\n",
    "- Ecrire une fonction qui transforme des coordonnées GPS (en degrés, minutes et secondes) en coordonnées décimales\n",
    "```python\n",
    "def gps2dec(deg, mn, sec):\n",
    "    pass\n",
    "```\n",
    "- Choisir une petite commune française sur Wikipédia et vérifier qu'elle est trouvée à partir de ces coordonnnées GPS en utilisant les 2 fonctions définies\n",
    "\n",
    "5) Géométrie\n",
    "- Décoder les données JSON de la colonne \"geo_shape\"\n",
    "- Donner le décompte des différentes valeurs associées à la clé \"type\"\n",
    "- Donner le décompte des longueurs des listes associées à la clé \"coordinates\"\n",
    "- Quelles sont les \"CP Ville\" des communes de type \"Polygon\" et dont la longueur des listes accédées avec la clé \"coordinates\" vaut 2 ?\n",
    "\n",
    "6) Graphiques\n",
    "- Afficher un histogramme avec les longueurs des noms des communes\n",
    "- Afficher un graphique de type scatterplot à partir des coordonnées des communes\n",
    "- Trouver une condition pour limiter le dataset à la France métropolitaine et afficher un graphique\n",
    "- Mettre toutes les communes à moins de 1000m en bleu et celle à plus de 1000m en rouge\n",
    "- Afficher un graphique de type scatterplot dans lequel les communes se terminant par un motif du type \"-mot1-mot2\" sont mis dans une autre couleur\n",
    "- Afficher un graphique de type scatterplot dans lequel la couleur utilisée dépend de la colonne \"Altitude moyenne\" selon la colormap \"Spectral_r\"\n",
    "- Afficher une carte de France métropolitaine avec les préfectures de région et leur nom, en corrigeant celles qui sont des arrondissements de Paris, Lyon ou Marseille.\n",
    "\n",
    "&copy; Francis Wolinski 2025"
   ]
  },
  {
   "cell_type": "code",
   "execution_count": 1,
   "id": "490a77b9-ba6e-4f17-bd45-9c7a8b361f1c",
   "metadata": {},
   "outputs": [],
   "source": [
    "import pandas as pd\n",
    "\n",
    "pd.set_option(\"display.min_rows\", 16)"
   ]
  },
  {
   "cell_type": "code",
   "execution_count": 2,
   "id": "103753d6-24b1-4457-a3b8-d24dfdfa2966",
   "metadata": {},
   "outputs": [
    {
     "data": {
      "text/plain": [
       "'2.2.3'"
      ]
     },
     "execution_count": 2,
     "metadata": {},
     "output_type": "execute_result"
    }
   ],
   "source": [
    "pd.__version__"
   ]
  },
  {
   "cell_type": "code",
   "execution_count": 3,
   "id": "dc6b27fc-3a58-4315-a972-fb85ef195c58",
   "metadata": {},
   "outputs": [],
   "source": [
    "def lecture_geo():\n",
    "    df = pd.read_csv(\"data/correspondance-code-insee-code-postal.csv\",\n",
    "                     sep=\";\",\n",
    "                     # usecols=[\"Code INSEE\", \"Code Postal\", \"Commune\", \"Département\", \"Région\", \"Statut\", \"Altitude Moyenne\", \"Superficie\", \"Population\", \"geo_point_2d\", \"geo_shape\"],\n",
    "                     usecols=range(11),\n",
    "                     index_col=\"Code INSEE\"\n",
    "                    )\n",
    "    df = df.sort_index()\n",
    "    \n",
    "    return df"
   ]
  },
  {
   "cell_type": "code",
   "execution_count": 4,
   "id": "879ee4c0-b4db-4966-be81-54069b92128b",
   "metadata": {},
   "outputs": [],
   "source": [
    "# method chaining\n",
    "\n",
    "def lecture_geo():\n",
    "    df = (pd\n",
    "          .read_csv(\"data/correspondance-code-insee-code-postal.csv\",\n",
    "                    sep=\";\",\n",
    "                    # usecols=[\"Code INSEE\", \"Code Postal\", \"Commune\", \"Département\", \"Région\", \"Statut\", \"Altitude Moyenne\", \"Superficie\", \"Population\", \"geo_point_2d\", \"geo_shape\"],\n",
    "                    usecols=range(11),\n",
    "                    index_col=\"Code INSEE\"\n",
    "                   )\n",
    "          .sort_index()\n",
    "         )\n",
    "    \n",
    "    return df"
   ]
  },
  {
   "cell_type": "code",
   "execution_count": 5,
   "id": "f2f49000-aaa4-4484-9dab-58a5fbba448d",
   "metadata": {},
   "outputs": [
    {
     "data": {
      "text/html": [
       "<div>\n",
       "<style scoped>\n",
       "    .dataframe tbody tr th:only-of-type {\n",
       "        vertical-align: middle;\n",
       "    }\n",
       "\n",
       "    .dataframe tbody tr th {\n",
       "        vertical-align: top;\n",
       "    }\n",
       "\n",
       "    .dataframe thead th {\n",
       "        text-align: right;\n",
       "    }\n",
       "</style>\n",
       "<table border=\"1\" class=\"dataframe\">\n",
       "  <thead>\n",
       "    <tr style=\"text-align: right;\">\n",
       "      <th></th>\n",
       "      <th>Code Postal</th>\n",
       "      <th>Commune</th>\n",
       "      <th>Département</th>\n",
       "      <th>Région</th>\n",
       "      <th>Statut</th>\n",
       "      <th>Altitude Moyenne</th>\n",
       "      <th>Superficie</th>\n",
       "      <th>Population</th>\n",
       "      <th>geo_point_2d</th>\n",
       "      <th>geo_shape</th>\n",
       "    </tr>\n",
       "    <tr>\n",
       "      <th>Code INSEE</th>\n",
       "      <th></th>\n",
       "      <th></th>\n",
       "      <th></th>\n",
       "      <th></th>\n",
       "      <th></th>\n",
       "      <th></th>\n",
       "      <th></th>\n",
       "      <th></th>\n",
       "      <th></th>\n",
       "      <th></th>\n",
       "    </tr>\n",
       "  </thead>\n",
       "  <tbody>\n",
       "    <tr>\n",
       "      <th>01001</th>\n",
       "      <td>01400</td>\n",
       "      <td>L'ABERGEMENT-CLEMENCIAT</td>\n",
       "      <td>AIN</td>\n",
       "      <td>RHONE-ALPES</td>\n",
       "      <td>Commune simple</td>\n",
       "      <td>242.0</td>\n",
       "      <td>1565.0</td>\n",
       "      <td>0.8</td>\n",
       "      <td>46.1534255214, 4.92611354223</td>\n",
       "      <td>{\"type\": \"Polygon\", \"coordinates\": [[[4.926273...</td>\n",
       "    </tr>\n",
       "    <tr>\n",
       "      <th>01002</th>\n",
       "      <td>01640</td>\n",
       "      <td>L'ABERGEMENT-DE-VAREY</td>\n",
       "      <td>AIN</td>\n",
       "      <td>RHONE-ALPES</td>\n",
       "      <td>Commune simple</td>\n",
       "      <td>483.0</td>\n",
       "      <td>912.0</td>\n",
       "      <td>0.2</td>\n",
       "      <td>46.0091878776, 5.42801696363</td>\n",
       "      <td>{\"type\": \"Polygon\", \"coordinates\": [[[5.430089...</td>\n",
       "    </tr>\n",
       "    <tr>\n",
       "      <th>01004</th>\n",
       "      <td>01500</td>\n",
       "      <td>AMBERIEU-EN-BUGEY</td>\n",
       "      <td>AIN</td>\n",
       "      <td>RHONE-ALPES</td>\n",
       "      <td>Chef-lieu canton</td>\n",
       "      <td>379.0</td>\n",
       "      <td>2448.0</td>\n",
       "      <td>13.4</td>\n",
       "      <td>45.9608475114, 5.3729257777</td>\n",
       "      <td>{\"type\": \"Polygon\", \"coordinates\": [[[5.386190...</td>\n",
       "    </tr>\n",
       "    <tr>\n",
       "      <th>01005</th>\n",
       "      <td>01330</td>\n",
       "      <td>AMBERIEUX-EN-DOMBES</td>\n",
       "      <td>AIN</td>\n",
       "      <td>RHONE-ALPES</td>\n",
       "      <td>Commune simple</td>\n",
       "      <td>290.0</td>\n",
       "      <td>1605.0</td>\n",
       "      <td>1.6</td>\n",
       "      <td>45.9961799872, 4.91227250796</td>\n",
       "      <td>{\"type\": \"Polygon\", \"coordinates\": [[[4.895580...</td>\n",
       "    </tr>\n",
       "    <tr>\n",
       "      <th>01006</th>\n",
       "      <td>01300</td>\n",
       "      <td>AMBLEON</td>\n",
       "      <td>AIN</td>\n",
       "      <td>RHONE-ALPES</td>\n",
       "      <td>Commune simple</td>\n",
       "      <td>589.0</td>\n",
       "      <td>602.0</td>\n",
       "      <td>0.1</td>\n",
       "      <td>45.7494989044, 5.59432017366</td>\n",
       "      <td>{\"type\": \"Polygon\", \"coordinates\": [[[5.614854...</td>\n",
       "    </tr>\n",
       "    <tr>\n",
       "      <th>01007</th>\n",
       "      <td>01500</td>\n",
       "      <td>AMBRONAY</td>\n",
       "      <td>AIN</td>\n",
       "      <td>RHONE-ALPES</td>\n",
       "      <td>Commune simple</td>\n",
       "      <td>309.0</td>\n",
       "      <td>3359.0</td>\n",
       "      <td>2.3</td>\n",
       "      <td>46.0055913782, 5.35760660735</td>\n",
       "      <td>{\"type\": \"Polygon\", \"coordinates\": [[[5.413533...</td>\n",
       "    </tr>\n",
       "    <tr>\n",
       "      <th>01008</th>\n",
       "      <td>01500</td>\n",
       "      <td>AMBUTRIX</td>\n",
       "      <td>AIN</td>\n",
       "      <td>RHONE-ALPES</td>\n",
       "      <td>Commune simple</td>\n",
       "      <td>274.0</td>\n",
       "      <td>518.0</td>\n",
       "      <td>0.7</td>\n",
       "      <td>45.9367134524, 5.3328092349</td>\n",
       "      <td>{\"type\": \"Polygon\", \"coordinates\": [[[5.321986...</td>\n",
       "    </tr>\n",
       "    <tr>\n",
       "      <th>01009</th>\n",
       "      <td>01300</td>\n",
       "      <td>ANDERT-ET-CONDON</td>\n",
       "      <td>AIN</td>\n",
       "      <td>RHONE-ALPES</td>\n",
       "      <td>Commune simple</td>\n",
       "      <td>294.0</td>\n",
       "      <td>696.0</td>\n",
       "      <td>0.3</td>\n",
       "      <td>45.7873565333, 5.65788307924</td>\n",
       "      <td>{\"type\": \"Polygon\", \"coordinates\": [[[5.656393...</td>\n",
       "    </tr>\n",
       "    <tr>\n",
       "      <th>...</th>\n",
       "      <td>...</td>\n",
       "      <td>...</td>\n",
       "      <td>...</td>\n",
       "      <td>...</td>\n",
       "      <td>...</td>\n",
       "      <td>...</td>\n",
       "      <td>...</td>\n",
       "      <td>...</td>\n",
       "      <td>...</td>\n",
       "      <td>...</td>\n",
       "    </tr>\n",
       "    <tr>\n",
       "      <th>97610</th>\n",
       "      <td>97600</td>\n",
       "      <td>KOUNGOU</td>\n",
       "      <td>MAYOTTE</td>\n",
       "      <td>MAYOTTE</td>\n",
       "      <td>Chef-lieu canton</td>\n",
       "      <td>138.0</td>\n",
       "      <td>2769.0</td>\n",
       "      <td>19.8</td>\n",
       "      <td>-12.7465604467, 45.1869991913</td>\n",
       "      <td>{\"type\": \"Polygon\", \"coordinates\": [[[45.23692...</td>\n",
       "    </tr>\n",
       "    <tr>\n",
       "      <th>97611</th>\n",
       "      <td>97600</td>\n",
       "      <td>MAMOUDZOU</td>\n",
       "      <td>MAYOTTE</td>\n",
       "      <td>MAYOTTE</td>\n",
       "      <td>Sous-préfecture</td>\n",
       "      <td>161.0</td>\n",
       "      <td>4235.0</td>\n",
       "      <td>53.0</td>\n",
       "      <td>-12.7899979586, 45.1932456026</td>\n",
       "      <td>{\"type\": \"Polygon\", \"coordinates\": [[[45.19781...</td>\n",
       "    </tr>\n",
       "    <tr>\n",
       "      <th>97612</th>\n",
       "      <td>97630</td>\n",
       "      <td>MTSAMBORO</td>\n",
       "      <td>MAYOTTE</td>\n",
       "      <td>MAYOTTE</td>\n",
       "      <td>Chef-lieu canton</td>\n",
       "      <td>146.0</td>\n",
       "      <td>1588.0</td>\n",
       "      <td>6.9</td>\n",
       "      <td>-12.6875073612, 45.0736802335</td>\n",
       "      <td>{\"type\": \"MultiPolygon\", \"coordinates\": [[[[45...</td>\n",
       "    </tr>\n",
       "    <tr>\n",
       "      <th>97613</th>\n",
       "      <td>97650</td>\n",
       "      <td>M'TSANGAMOUJI</td>\n",
       "      <td>MAYOTTE</td>\n",
       "      <td>MAYOTTE</td>\n",
       "      <td>Chef-lieu canton</td>\n",
       "      <td>96.0</td>\n",
       "      <td>2155.0</td>\n",
       "      <td>5.0</td>\n",
       "      <td>-12.7513099309, 45.0871696871</td>\n",
       "      <td>{\"type\": \"Polygon\", \"coordinates\": [[[45.10168...</td>\n",
       "    </tr>\n",
       "    <tr>\n",
       "      <th>97614</th>\n",
       "      <td>97670</td>\n",
       "      <td>OUANGANI</td>\n",
       "      <td>MAYOTTE</td>\n",
       "      <td>MAYOTTE</td>\n",
       "      <td>Chef-lieu canton</td>\n",
       "      <td>175.0</td>\n",
       "      <td>1828.0</td>\n",
       "      <td>6.6</td>\n",
       "      <td>-12.8370955196, 45.1379095497</td>\n",
       "      <td>{\"type\": \"Polygon\", \"coordinates\": [[[45.15401...</td>\n",
       "    </tr>\n",
       "    <tr>\n",
       "      <th>97615</th>\n",
       "      <td>97610</td>\n",
       "      <td>PAMANDZI</td>\n",
       "      <td>MAYOTTE</td>\n",
       "      <td>MAYOTTE</td>\n",
       "      <td>Chef-lieu canton</td>\n",
       "      <td>52.0</td>\n",
       "      <td>426.0</td>\n",
       "      <td>9.1</td>\n",
       "      <td>-12.7961353309, 45.2842063102</td>\n",
       "      <td>{\"type\": \"Polygon\", \"coordinates\": [[[45.29645...</td>\n",
       "    </tr>\n",
       "    <tr>\n",
       "      <th>97616</th>\n",
       "      <td>97640</td>\n",
       "      <td>SADA</td>\n",
       "      <td>MAYOTTE</td>\n",
       "      <td>MAYOTTE</td>\n",
       "      <td>Chef-lieu canton</td>\n",
       "      <td>130.0</td>\n",
       "      <td>1085.0</td>\n",
       "      <td>8.0</td>\n",
       "      <td>-12.8611649609, 45.1185503145</td>\n",
       "      <td>{\"type\": \"Polygon\", \"coordinates\": [[[45.13226...</td>\n",
       "    </tr>\n",
       "    <tr>\n",
       "      <th>97617</th>\n",
       "      <td>97680</td>\n",
       "      <td>TSINGONI</td>\n",
       "      <td>MAYOTTE</td>\n",
       "      <td>MAYOTTE</td>\n",
       "      <td>Chef-lieu canton</td>\n",
       "      <td>147.0</td>\n",
       "      <td>3426.0</td>\n",
       "      <td>9.2</td>\n",
       "      <td>-12.7821666736, 45.1344279083</td>\n",
       "      <td>{\"type\": \"Polygon\", \"coordinates\": [[[45.15256...</td>\n",
       "    </tr>\n",
       "  </tbody>\n",
       "</table>\n",
       "<p>36742 rows × 10 columns</p>\n",
       "</div>"
      ],
      "text/plain": [
       "           Code Postal                  Commune Département       Région  \\\n",
       "Code INSEE                                                                 \n",
       "01001            01400  L'ABERGEMENT-CLEMENCIAT         AIN  RHONE-ALPES   \n",
       "01002            01640    L'ABERGEMENT-DE-VAREY         AIN  RHONE-ALPES   \n",
       "01004            01500        AMBERIEU-EN-BUGEY         AIN  RHONE-ALPES   \n",
       "01005            01330      AMBERIEUX-EN-DOMBES         AIN  RHONE-ALPES   \n",
       "01006            01300                  AMBLEON         AIN  RHONE-ALPES   \n",
       "01007            01500                 AMBRONAY         AIN  RHONE-ALPES   \n",
       "01008            01500                 AMBUTRIX         AIN  RHONE-ALPES   \n",
       "01009            01300         ANDERT-ET-CONDON         AIN  RHONE-ALPES   \n",
       "...                ...                      ...         ...          ...   \n",
       "97610            97600                  KOUNGOU     MAYOTTE      MAYOTTE   \n",
       "97611            97600                MAMOUDZOU     MAYOTTE      MAYOTTE   \n",
       "97612            97630                MTSAMBORO     MAYOTTE      MAYOTTE   \n",
       "97613            97650            M'TSANGAMOUJI     MAYOTTE      MAYOTTE   \n",
       "97614            97670                 OUANGANI     MAYOTTE      MAYOTTE   \n",
       "97615            97610                 PAMANDZI     MAYOTTE      MAYOTTE   \n",
       "97616            97640                     SADA     MAYOTTE      MAYOTTE   \n",
       "97617            97680                 TSINGONI     MAYOTTE      MAYOTTE   \n",
       "\n",
       "                      Statut  Altitude Moyenne  Superficie  Population  \\\n",
       "Code INSEE                                                               \n",
       "01001         Commune simple             242.0      1565.0         0.8   \n",
       "01002         Commune simple             483.0       912.0         0.2   \n",
       "01004       Chef-lieu canton             379.0      2448.0        13.4   \n",
       "01005         Commune simple             290.0      1605.0         1.6   \n",
       "01006         Commune simple             589.0       602.0         0.1   \n",
       "01007         Commune simple             309.0      3359.0         2.3   \n",
       "01008         Commune simple             274.0       518.0         0.7   \n",
       "01009         Commune simple             294.0       696.0         0.3   \n",
       "...                      ...               ...         ...         ...   \n",
       "97610       Chef-lieu canton             138.0      2769.0        19.8   \n",
       "97611        Sous-préfecture             161.0      4235.0        53.0   \n",
       "97612       Chef-lieu canton             146.0      1588.0         6.9   \n",
       "97613       Chef-lieu canton              96.0      2155.0         5.0   \n",
       "97614       Chef-lieu canton             175.0      1828.0         6.6   \n",
       "97615       Chef-lieu canton              52.0       426.0         9.1   \n",
       "97616       Chef-lieu canton             130.0      1085.0         8.0   \n",
       "97617       Chef-lieu canton             147.0      3426.0         9.2   \n",
       "\n",
       "                             geo_point_2d  \\\n",
       "Code INSEE                                  \n",
       "01001        46.1534255214, 4.92611354223   \n",
       "01002        46.0091878776, 5.42801696363   \n",
       "01004         45.9608475114, 5.3729257777   \n",
       "01005        45.9961799872, 4.91227250796   \n",
       "01006        45.7494989044, 5.59432017366   \n",
       "01007        46.0055913782, 5.35760660735   \n",
       "01008         45.9367134524, 5.3328092349   \n",
       "01009        45.7873565333, 5.65788307924   \n",
       "...                                   ...   \n",
       "97610       -12.7465604467, 45.1869991913   \n",
       "97611       -12.7899979586, 45.1932456026   \n",
       "97612       -12.6875073612, 45.0736802335   \n",
       "97613       -12.7513099309, 45.0871696871   \n",
       "97614       -12.8370955196, 45.1379095497   \n",
       "97615       -12.7961353309, 45.2842063102   \n",
       "97616       -12.8611649609, 45.1185503145   \n",
       "97617       -12.7821666736, 45.1344279083   \n",
       "\n",
       "                                                    geo_shape  \n",
       "Code INSEE                                                     \n",
       "01001       {\"type\": \"Polygon\", \"coordinates\": [[[4.926273...  \n",
       "01002       {\"type\": \"Polygon\", \"coordinates\": [[[5.430089...  \n",
       "01004       {\"type\": \"Polygon\", \"coordinates\": [[[5.386190...  \n",
       "01005       {\"type\": \"Polygon\", \"coordinates\": [[[4.895580...  \n",
       "01006       {\"type\": \"Polygon\", \"coordinates\": [[[5.614854...  \n",
       "01007       {\"type\": \"Polygon\", \"coordinates\": [[[5.413533...  \n",
       "01008       {\"type\": \"Polygon\", \"coordinates\": [[[5.321986...  \n",
       "01009       {\"type\": \"Polygon\", \"coordinates\": [[[5.656393...  \n",
       "...                                                       ...  \n",
       "97610       {\"type\": \"Polygon\", \"coordinates\": [[[45.23692...  \n",
       "97611       {\"type\": \"Polygon\", \"coordinates\": [[[45.19781...  \n",
       "97612       {\"type\": \"MultiPolygon\", \"coordinates\": [[[[45...  \n",
       "97613       {\"type\": \"Polygon\", \"coordinates\": [[[45.10168...  \n",
       "97614       {\"type\": \"Polygon\", \"coordinates\": [[[45.15401...  \n",
       "97615       {\"type\": \"Polygon\", \"coordinates\": [[[45.29645...  \n",
       "97616       {\"type\": \"Polygon\", \"coordinates\": [[[45.13226...  \n",
       "97617       {\"type\": \"Polygon\", \"coordinates\": [[[45.15256...  \n",
       "\n",
       "[36742 rows x 10 columns]"
      ]
     },
     "execution_count": 5,
     "metadata": {},
     "output_type": "execute_result"
    }
   ],
   "source": [
    "df = lecture_geo()\n",
    "df"
   ]
  },
  {
   "cell_type": "code",
   "execution_count": 6,
   "id": "2574daa7-604e-4617-82e6-13d82b4319e7",
   "metadata": {},
   "outputs": [
    {
     "data": {
      "text/plain": [
       "101"
      ]
     },
     "execution_count": 6,
     "metadata": {},
     "output_type": "execute_result"
    }
   ],
   "source": [
    "df[\"Département\"].nunique()"
   ]
  },
  {
   "cell_type": "code",
   "execution_count": 7,
   "id": "8b3ea58b-ced6-4cfb-96c3-7c33f7993a27",
   "metadata": {},
   "outputs": [
    {
     "data": {
      "text/html": [
       "<div>\n",
       "<style scoped>\n",
       "    .dataframe tbody tr th:only-of-type {\n",
       "        vertical-align: middle;\n",
       "    }\n",
       "\n",
       "    .dataframe tbody tr th {\n",
       "        vertical-align: top;\n",
       "    }\n",
       "\n",
       "    .dataframe thead th {\n",
       "        text-align: right;\n",
       "    }\n",
       "</style>\n",
       "<table border=\"1\" class=\"dataframe\">\n",
       "  <thead>\n",
       "    <tr style=\"text-align: right;\">\n",
       "      <th></th>\n",
       "      <th>Code Postal</th>\n",
       "      <th>Commune</th>\n",
       "      <th>Département</th>\n",
       "      <th>Région</th>\n",
       "      <th>Statut</th>\n",
       "      <th>Altitude Moyenne</th>\n",
       "      <th>Superficie</th>\n",
       "      <th>Population</th>\n",
       "      <th>geo_point_2d</th>\n",
       "      <th>geo_shape</th>\n",
       "    </tr>\n",
       "    <tr>\n",
       "      <th>Code INSEE</th>\n",
       "      <th></th>\n",
       "      <th></th>\n",
       "      <th></th>\n",
       "      <th></th>\n",
       "      <th></th>\n",
       "      <th></th>\n",
       "      <th></th>\n",
       "      <th></th>\n",
       "      <th></th>\n",
       "      <th></th>\n",
       "    </tr>\n",
       "  </thead>\n",
       "  <tbody>\n",
       "    <tr>\n",
       "      <th>73047</th>\n",
       "      <td>73480</td>\n",
       "      <td>BONNEVAL-SUR-ARC</td>\n",
       "      <td>SAVOIE</td>\n",
       "      <td>RHONE-ALPES</td>\n",
       "      <td>Commune simple</td>\n",
       "      <td>2713.0</td>\n",
       "      <td>11231.0</td>\n",
       "      <td>0.2</td>\n",
       "      <td>45.3858269371, 7.09178979521</td>\n",
       "      <td>{\"type\": \"Polygon\", \"coordinates\": [[[7.110695...</td>\n",
       "    </tr>\n",
       "  </tbody>\n",
       "</table>\n",
       "</div>"
      ],
      "text/plain": [
       "           Code Postal           Commune Département       Région  \\\n",
       "Code INSEE                                                          \n",
       "73047            73480  BONNEVAL-SUR-ARC      SAVOIE  RHONE-ALPES   \n",
       "\n",
       "                    Statut  Altitude Moyenne  Superficie  Population  \\\n",
       "Code INSEE                                                             \n",
       "73047       Commune simple            2713.0     11231.0         0.2   \n",
       "\n",
       "                            geo_point_2d  \\\n",
       "Code INSEE                                 \n",
       "73047       45.3858269371, 7.09178979521   \n",
       "\n",
       "                                                    geo_shape  \n",
       "Code INSEE                                                     \n",
       "73047       {\"type\": \"Polygon\", \"coordinates\": [[[7.110695...  "
      ]
     },
     "execution_count": 7,
     "metadata": {},
     "output_type": "execute_result"
    }
   ],
   "source": [
    "df.loc[df[\"Altitude Moyenne\"] == df[\"Altitude Moyenne\"].max()]"
   ]
  },
  {
   "cell_type": "code",
   "execution_count": 8,
   "id": "046aa398-aa14-4d06-af74-f912f77133f6",
   "metadata": {},
   "outputs": [
    {
     "data": {
      "text/plain": [
       "'BONNEVAL-SUR-ARC'"
      ]
     },
     "execution_count": 8,
     "metadata": {},
     "output_type": "execute_result"
    }
   ],
   "source": [
    "df.loc[df[\"Altitude Moyenne\"].idxmax(), \"Commune\"]"
   ]
  },
  {
   "cell_type": "code",
   "execution_count": 9,
   "id": "5a284914-6502-4970-bb6f-c4f48f68e09b",
   "metadata": {},
   "outputs": [
    {
     "data": {
      "text/plain": [
       "'TOULOUSE'"
      ]
     },
     "execution_count": 9,
     "metadata": {},
     "output_type": "execute_result"
    }
   ],
   "source": [
    "df.loc[df[\"Population\"].idxmax(), \"Commune\"]"
   ]
  },
  {
   "cell_type": "code",
   "execution_count": 10,
   "id": "83fb058d-9110-4f3f-8ce6-9cd824c69be4",
   "metadata": {},
   "outputs": [
    {
     "data": {
      "text/plain": [
       "'Y'"
      ]
     },
     "execution_count": 10,
     "metadata": {},
     "output_type": "execute_result"
    }
   ],
   "source": [
    "df.loc[df[\"Commune\"].str.len().idxmin(), \"Commune\"]"
   ]
  },
  {
   "cell_type": "code",
   "execution_count": 11,
   "id": "f2519dd2-e479-4702-b0fe-1bf0a86bb79c",
   "metadata": {},
   "outputs": [
    {
     "data": {
      "text/plain": [
       "'SAINT-REMY-EN-BOUZEMONT-SAINT-GENEST-ET-ISSON'"
      ]
     },
     "execution_count": 11,
     "metadata": {},
     "output_type": "execute_result"
    }
   ],
   "source": [
    "df.loc[df[\"Commune\"].str.len().idxmax(), \"Commune\"]"
   ]
  },
  {
   "cell_type": "code",
   "execution_count": 12,
   "id": "e9eb4a67-3456-4b46-b490-0df057a2c5eb",
   "metadata": {},
   "outputs": [
    {
     "data": {
      "text/plain": [
       "'SAINTE-COLOMBE'"
      ]
     },
     "execution_count": 12,
     "metadata": {},
     "output_type": "execute_result"
    }
   ],
   "source": [
    "df[\"Commune\"].value_counts().index[0]"
   ]
  },
  {
   "cell_type": "code",
   "execution_count": 13,
   "id": "e5f4df17-d5de-44ec-bad2-bd70e7b72242",
   "metadata": {},
   "outputs": [
    {
     "data": {
      "text/plain": [
       "count    36742.000000\n",
       "mean         1.755484\n",
       "std          8.109130\n",
       "min          0.000000\n",
       "25%          0.200000\n",
       "50%          0.400000\n",
       "75%          1.100000\n",
       "max        440.200000\n",
       "Name: Population, dtype: float64"
      ]
     },
     "execution_count": 13,
     "metadata": {},
     "output_type": "execute_result"
    }
   ],
   "source": [
    "df[\"Population\"].describe()"
   ]
  },
  {
   "cell_type": "code",
   "execution_count": 14,
   "id": "d795903a-be5a-4575-8d12-f6ecfdf80a34",
   "metadata": {},
   "outputs": [
    {
     "data": {
      "text/plain": [
       "'SAINTE-COLOMBE'"
      ]
     },
     "execution_count": 14,
     "metadata": {},
     "output_type": "execute_result"
    }
   ],
   "source": [
    "df[\"Commune\"].describe().loc[\"top\"]"
   ]
  },
  {
   "cell_type": "code",
   "execution_count": 15,
   "id": "26043e30-5012-469b-aed0-2405612c9472",
   "metadata": {},
   "outputs": [],
   "source": [
    "def selection(mot1, mot2):\n",
    "    # pattern = \"-\" + mot1 + \"-\" + mot2\n",
    "    pattern = f\"-{mot1}-{mot2}\"  # f-string\n",
    "    print(pattern)\n",
    "    selection = df.loc[df[\"Commune\"].str.endswith(pattern), \"Commune\"]\n",
    "    return selection"
   ]
  },
  {
   "cell_type": "code",
   "execution_count": 16,
   "id": "65fb360b-db59-48db-b478-e6098a0b23e5",
   "metadata": {},
   "outputs": [
    {
     "name": "stdout",
     "output_type": "stream",
     "text": [
      "-SUR-MER\n"
     ]
    },
    {
     "data": {
      "text/plain": [
       "Code INSEE\n",
       "06011         BEAULIEU-SUR-MER\n",
       "06027           CAGNES-SUR-MER\n",
       "06138          THEOULE-SUR-MER\n",
       "06159     VILLEFRANCHE-SUR-MER\n",
       "13039              FOS-SUR-MER\n",
       "14059       BENERVILLE-SUR-MER\n",
       "14062             BENY-SUR-MER\n",
       "14066        BERNIERES-SUR-MER\n",
       "                 ...          \n",
       "85035     BRETIGNOLLES-SUR-MER\n",
       "85114             JARD-SUR-MER\n",
       "85127       LONGEVILLE-SUR-MER\n",
       "85166           OLONNE-SUR-MER\n",
       "85201    SAINT-BENOIST-SUR-MER\n",
       "85243             BREM-SUR-MER\n",
       "85294       LA TRANCHE-SUR-MER\n",
       "85307         LA FAUTE-SUR-MER\n",
       "Name: Commune, Length: 100, dtype: object"
      ]
     },
     "execution_count": 16,
     "metadata": {},
     "output_type": "execute_result"
    }
   ],
   "source": [
    "selection(\"SUR\", \"MER\")"
   ]
  },
  {
   "cell_type": "code",
   "execution_count": 17,
   "id": "ec51415f-ce92-4a2f-9cca-b902e875da14",
   "metadata": {},
   "outputs": [
    {
     "name": "stdout",
     "output_type": "stream",
     "text": [
      "-SOUS-BOIS\n"
     ]
    },
    {
     "data": {
      "text/plain": [
       "Code INSEE\n",
       "10136          EGUILLY-SOUS-BOIS\n",
       "26335           SALLES-SOUS-BOIS\n",
       "57128      CHARLEVILLE-SOUS-BOIS\n",
       "60052         BEAUGIES-SOUS-BOIS\n",
       "62762     SAINT-MICHEL-SOUS-BOIS\n",
       "78165       LES CLAYES-SOUS-BOIS\n",
       "89020         ASNIERES-SOUS-BOIS\n",
       "93005           AULNAY-SOUS-BOIS\n",
       "93014           CLICHY-SOUS-BOIS\n",
       "93057    LES PAVILLONS-SOUS-BOIS\n",
       "93064            ROSNY-SOUS-BOIS\n",
       "94033         FONTENAY-SOUS-BOIS\n",
       "95316            JAGNY-SOUS-BOIS\n",
       "95660        VILLAINES-SOUS-BOIS\n",
       "Name: Commune, dtype: object"
      ]
     },
     "execution_count": 17,
     "metadata": {},
     "output_type": "execute_result"
    }
   ],
   "source": [
    "selection(\"SOUS\", \"BOIS\")"
   ]
  },
  {
   "cell_type": "code",
   "execution_count": 18,
   "id": "f7675754-e988-413a-aaa5-87a557967314",
   "metadata": {},
   "outputs": [
    {
     "data": {
      "text/plain": [
       "Code INSEE\n",
       "2A027              AZZANA\n",
       "2A099             COZZANO\n",
       "2A118             FOZZANO\n",
       "2A259               REZZA\n",
       "2A336    VALLE-DI-MEZZANA\n",
       "2B143        LINGUIZZETTA\n",
       "2B147               LOZZI\n",
       "2B149       LUGO-DI-NAZZA\n",
       "2B157             MAZZOLA\n",
       "2B164    MONACIA-D'OREZZA\n",
       "2B216            PIAZZALI\n",
       "2B217            PIAZZOLE\n",
       "2B222        PIE-D'OREZZA\n",
       "2B236     POGGIO-DI-NAZZA\n",
       "2B242      POGGIO-MEZZANA\n",
       "2B291            STAZZONA\n",
       "2B338      VALLE-D'OREZZA\n",
       "2B347             VEZZANI\n",
       "68030       BERGHOLTZZELL\n",
       "Name: Commune, dtype: object"
      ]
     },
     "execution_count": 18,
     "metadata": {},
     "output_type": "execute_result"
    }
   ],
   "source": [
    "# Quelles villes contiennent deux \"Z\" (accolés, séparés par une seule lettre, séparés par un nombre quelconque de lettres, séparés par au moins une lettre) ?\n",
    "# 2 Z accolés\n",
    "df.loc[df[\"Commune\"].str.contains(\"ZZ\"), \"Commune\"]"
   ]
  },
  {
   "cell_type": "code",
   "execution_count": 19,
   "id": "010a5b70-0406-45a6-8fc5-4e43aa016927",
   "metadata": {},
   "outputs": [
    {
     "data": {
      "text/plain": [
       "Code INSEE\n",
       "2A363                   ZOZA\n",
       "43261               VEZEZOUX\n",
       "71174    DEZIZE-LES-MARANGES\n",
       "Name: Commune, dtype: object"
      ]
     },
     "execution_count": 19,
     "metadata": {},
     "output_type": "execute_result"
    }
   ],
   "source": [
    "# 2 Z séparés par une seule lettre\n",
    "df.loc[df[\"Commune\"].str.contains(\"Z.Z\"), \"Commune\"]"
   ]
  },
  {
   "cell_type": "code",
   "execution_count": 20,
   "id": "0c359c1e-ac1e-4be0-a44a-0c83e170c697",
   "metadata": {},
   "outputs": [
    {
     "data": {
      "text/plain": [
       "Code INSEE\n",
       "07161      MONTPEZAT-SOUS-BAUZON\n",
       "09105         DAUMAZAN-SUR-ARIZE\n",
       "09167             LEZAT-SUR-LEZE\n",
       "11034           BELVEZE-DU-RAZES\n",
       "11228        MAZEROLLES-DU-RAZES\n",
       "11417         VILLARZEL-DU-RAZES\n",
       "12294          VEZINS-DE-LEVEZOU\n",
       "16378                TAIZE-AIZIE\n",
       "                  ...           \n",
       "69229    SAINT-NIZIER-D'AZERGUES\n",
       "71174        DEZIZE-LES-MARANGES\n",
       "74310            VIUZ-LA-CHIESAZ\n",
       "74311             VIUZ-EN-SALLAZ\n",
       "78337              LIMETZ-VILLEZ\n",
       "88404        ROZIERES-SUR-MOUZON\n",
       "95282                 GOUZANGREZ\n",
       "97608                   DZAOUDZI\n",
       "Name: Commune, Length: 67, dtype: object"
      ]
     },
     "execution_count": 20,
     "metadata": {},
     "output_type": "execute_result"
    }
   ],
   "source": [
    "# 2 Z séparés par un nombre quelconque de lettres\n",
    "df.loc[df[\"Commune\"].str.contains(\"Z.*Z\"), \"Commune\"]"
   ]
  },
  {
   "cell_type": "code",
   "execution_count": 21,
   "id": "86a89288-8f16-42d5-887c-21a3d36034d9",
   "metadata": {},
   "outputs": [
    {
     "data": {
      "text/plain": [
       "Code INSEE\n",
       "07161       MONTPEZAT-SOUS-BAUZON\n",
       "09105          DAUMAZAN-SUR-ARIZE\n",
       "09167              LEZAT-SUR-LEZE\n",
       "11034            BELVEZE-DU-RAZES\n",
       "11228         MAZEROLLES-DU-RAZES\n",
       "11417          VILLARZEL-DU-RAZES\n",
       "12294           VEZINS-DE-LEVEZOU\n",
       "16378                 TAIZE-AIZIE\n",
       "29008            BEUZEC-CAP-SIZUN\n",
       "29176             PLONEVEZ-PORZAY\n",
       "2A026              AZILONE-AMPAZA\n",
       "2A362                       ZONZA\n",
       "2A363                        ZOZA\n",
       "31245               JUZET-D'IZAUT\n",
       "34069         CAZOULS-LES-BEZIERS\n",
       "34279    SAINT-NAZAIRE-DE-LADAREZ\n",
       "34280      SAINT-NAZAIRE-DE-PEZAN\n",
       "34310          THEZAN-LES-BEZIERS\n",
       "42193             ROZIER-EN-DONZY\n",
       "43131             MAZERAT-AUROUZE\n",
       "43261                    VEZEZOUX\n",
       "45026        BAZOCHES-SUR-LE-BETZ\n",
       "45204          MEZIERES-LEZ-CLERY\n",
       "45245          OUZOUER-SUR-TREZEE\n",
       "47006          ALLEZ-ET-CAZENEUVE\n",
       "54129           CIREY-SUR-VEZOUZE\n",
       "54161         DOMEVRE-SUR-VEZOUZE\n",
       "55024      AZANNES-ET-SOUMAZANNES\n",
       "55178          ERIZE-SAINT-DIZIER\n",
       "56090           INZINZAC-LOCHRIST\n",
       "57433          MAIZIERES-LES-METZ\n",
       "58116                   FLEZ-CUZY\n",
       "59667                  ZERMEZEELE\n",
       "63435           TOURZEL-RONZIERES\n",
       "64063           ARZACQ-ARRAZIGUET\n",
       "64373              MAZERES-LEZONS\n",
       "65020           ARCIZAC-EZ-ANGLES\n",
       "65203               GEZ-EZ-ANGLES\n",
       "67347       OBERMODERN-ZUTZENDORF\n",
       "69052           CHAZAY-D'AZERGUES\n",
       "69229     SAINT-NIZIER-D'AZERGUES\n",
       "71174         DEZIZE-LES-MARANGES\n",
       "74310             VIUZ-LA-CHIESAZ\n",
       "74311              VIUZ-EN-SALLAZ\n",
       "78337               LIMETZ-VILLEZ\n",
       "88404         ROZIERES-SUR-MOUZON\n",
       "95282                  GOUZANGREZ\n",
       "97608                    DZAOUDZI\n",
       "Name: Commune, dtype: object"
      ]
     },
     "execution_count": 21,
     "metadata": {},
     "output_type": "execute_result"
    }
   ],
   "source": [
    "# séparés par au moins une lettre\n",
    "df.loc[df[\"Commune\"].str.contains(\"Z.+Z\"), \"Commune\"]"
   ]
  },
  {
   "cell_type": "code",
   "execution_count": 22,
   "id": "a217e27f-336a-4a7b-9911-f5beb2a1cd3e",
   "metadata": {},
   "outputs": [
    {
     "data": {
      "text/html": [
       "<div>\n",
       "<style scoped>\n",
       "    .dataframe tbody tr th:only-of-type {\n",
       "        vertical-align: middle;\n",
       "    }\n",
       "\n",
       "    .dataframe tbody tr th {\n",
       "        vertical-align: top;\n",
       "    }\n",
       "\n",
       "    .dataframe thead th {\n",
       "        text-align: right;\n",
       "    }\n",
       "</style>\n",
       "<table border=\"1\" class=\"dataframe\">\n",
       "  <thead>\n",
       "    <tr style=\"text-align: right;\">\n",
       "      <th></th>\n",
       "      <th>Code Postal</th>\n",
       "      <th>Commune</th>\n",
       "      <th>Département</th>\n",
       "      <th>Région</th>\n",
       "      <th>Statut</th>\n",
       "      <th>Altitude Moyenne</th>\n",
       "      <th>Superficie</th>\n",
       "      <th>Population</th>\n",
       "      <th>geo_point_2d</th>\n",
       "      <th>geo_shape</th>\n",
       "    </tr>\n",
       "    <tr>\n",
       "      <th>Code INSEE</th>\n",
       "      <th></th>\n",
       "      <th></th>\n",
       "      <th></th>\n",
       "      <th></th>\n",
       "      <th></th>\n",
       "      <th></th>\n",
       "      <th></th>\n",
       "      <th></th>\n",
       "      <th></th>\n",
       "      <th></th>\n",
       "    </tr>\n",
       "  </thead>\n",
       "  <tbody>\n",
       "    <tr>\n",
       "      <th>01001</th>\n",
       "      <td>01400</td>\n",
       "      <td>L'ABERGEMENT-CLEMENCIAT</td>\n",
       "      <td>AIN</td>\n",
       "      <td>RHONE-ALPES</td>\n",
       "      <td>Commune simple</td>\n",
       "      <td>242.0</td>\n",
       "      <td>15.65</td>\n",
       "      <td>0.8</td>\n",
       "      <td>46.1534255214, 4.92611354223</td>\n",
       "      <td>{\"type\": \"Polygon\", \"coordinates\": [[[4.926273...</td>\n",
       "    </tr>\n",
       "    <tr>\n",
       "      <th>01002</th>\n",
       "      <td>01640</td>\n",
       "      <td>L'ABERGEMENT-DE-VAREY</td>\n",
       "      <td>AIN</td>\n",
       "      <td>RHONE-ALPES</td>\n",
       "      <td>Commune simple</td>\n",
       "      <td>483.0</td>\n",
       "      <td>9.12</td>\n",
       "      <td>0.2</td>\n",
       "      <td>46.0091878776, 5.42801696363</td>\n",
       "      <td>{\"type\": \"Polygon\", \"coordinates\": [[[5.430089...</td>\n",
       "    </tr>\n",
       "    <tr>\n",
       "      <th>01004</th>\n",
       "      <td>01500</td>\n",
       "      <td>AMBERIEU-EN-BUGEY</td>\n",
       "      <td>AIN</td>\n",
       "      <td>RHONE-ALPES</td>\n",
       "      <td>Chef-lieu canton</td>\n",
       "      <td>379.0</td>\n",
       "      <td>24.48</td>\n",
       "      <td>13.4</td>\n",
       "      <td>45.9608475114, 5.3729257777</td>\n",
       "      <td>{\"type\": \"Polygon\", \"coordinates\": [[[5.386190...</td>\n",
       "    </tr>\n",
       "    <tr>\n",
       "      <th>01005</th>\n",
       "      <td>01330</td>\n",
       "      <td>AMBERIEUX-EN-DOMBES</td>\n",
       "      <td>AIN</td>\n",
       "      <td>RHONE-ALPES</td>\n",
       "      <td>Commune simple</td>\n",
       "      <td>290.0</td>\n",
       "      <td>16.05</td>\n",
       "      <td>1.6</td>\n",
       "      <td>45.9961799872, 4.91227250796</td>\n",
       "      <td>{\"type\": \"Polygon\", \"coordinates\": [[[4.895580...</td>\n",
       "    </tr>\n",
       "    <tr>\n",
       "      <th>01006</th>\n",
       "      <td>01300</td>\n",
       "      <td>AMBLEON</td>\n",
       "      <td>AIN</td>\n",
       "      <td>RHONE-ALPES</td>\n",
       "      <td>Commune simple</td>\n",
       "      <td>589.0</td>\n",
       "      <td>6.02</td>\n",
       "      <td>0.1</td>\n",
       "      <td>45.7494989044, 5.59432017366</td>\n",
       "      <td>{\"type\": \"Polygon\", \"coordinates\": [[[5.614854...</td>\n",
       "    </tr>\n",
       "  </tbody>\n",
       "</table>\n",
       "</div>"
      ],
      "text/plain": [
       "           Code Postal                  Commune Département       Région  \\\n",
       "Code INSEE                                                                 \n",
       "01001            01400  L'ABERGEMENT-CLEMENCIAT         AIN  RHONE-ALPES   \n",
       "01002            01640    L'ABERGEMENT-DE-VAREY         AIN  RHONE-ALPES   \n",
       "01004            01500        AMBERIEU-EN-BUGEY         AIN  RHONE-ALPES   \n",
       "01005            01330      AMBERIEUX-EN-DOMBES         AIN  RHONE-ALPES   \n",
       "01006            01300                  AMBLEON         AIN  RHONE-ALPES   \n",
       "\n",
       "                      Statut  Altitude Moyenne  Superficie  Population  \\\n",
       "Code INSEE                                                               \n",
       "01001         Commune simple             242.0       15.65         0.8   \n",
       "01002         Commune simple             483.0        9.12         0.2   \n",
       "01004       Chef-lieu canton             379.0       24.48        13.4   \n",
       "01005         Commune simple             290.0       16.05         1.6   \n",
       "01006         Commune simple             589.0        6.02         0.1   \n",
       "\n",
       "                            geo_point_2d  \\\n",
       "Code INSEE                                 \n",
       "01001       46.1534255214, 4.92611354223   \n",
       "01002       46.0091878776, 5.42801696363   \n",
       "01004        45.9608475114, 5.3729257777   \n",
       "01005       45.9961799872, 4.91227250796   \n",
       "01006       45.7494989044, 5.59432017366   \n",
       "\n",
       "                                                    geo_shape  \n",
       "Code INSEE                                                     \n",
       "01001       {\"type\": \"Polygon\", \"coordinates\": [[[4.926273...  \n",
       "01002       {\"type\": \"Polygon\", \"coordinates\": [[[5.430089...  \n",
       "01004       {\"type\": \"Polygon\", \"coordinates\": [[[5.386190...  \n",
       "01005       {\"type\": \"Polygon\", \"coordinates\": [[[4.895580...  \n",
       "01006       {\"type\": \"Polygon\", \"coordinates\": [[[5.614854...  "
      ]
     },
     "execution_count": 22,
     "metadata": {},
     "output_type": "execute_result"
    }
   ],
   "source": [
    "df[\"Superficie\"] /= 100\n",
    "\n",
    "df.head()"
   ]
  },
  {
   "cell_type": "code",
   "execution_count": 23,
   "id": "3c4c8f96-4c85-48ce-a18f-843e7b717b4c",
   "metadata": {},
   "outputs": [
    {
     "data": {
      "text/html": [
       "<div>\n",
       "<style scoped>\n",
       "    .dataframe tbody tr th:only-of-type {\n",
       "        vertical-align: middle;\n",
       "    }\n",
       "\n",
       "    .dataframe tbody tr th {\n",
       "        vertical-align: top;\n",
       "    }\n",
       "\n",
       "    .dataframe thead th {\n",
       "        text-align: right;\n",
       "    }\n",
       "</style>\n",
       "<table border=\"1\" class=\"dataframe\">\n",
       "  <thead>\n",
       "    <tr style=\"text-align: right;\">\n",
       "      <th></th>\n",
       "      <th>Code Postal</th>\n",
       "      <th>Commune</th>\n",
       "      <th>Département</th>\n",
       "      <th>Région</th>\n",
       "      <th>Statut</th>\n",
       "      <th>Altitude Moyenne</th>\n",
       "      <th>Superficie</th>\n",
       "      <th>Population</th>\n",
       "      <th>geo_point_2d</th>\n",
       "      <th>geo_shape</th>\n",
       "    </tr>\n",
       "    <tr>\n",
       "      <th>Code INSEE</th>\n",
       "      <th></th>\n",
       "      <th></th>\n",
       "      <th></th>\n",
       "      <th></th>\n",
       "      <th></th>\n",
       "      <th></th>\n",
       "      <th></th>\n",
       "      <th></th>\n",
       "      <th></th>\n",
       "      <th></th>\n",
       "    </tr>\n",
       "  </thead>\n",
       "  <tbody>\n",
       "    <tr>\n",
       "      <th>01001</th>\n",
       "      <td>01400</td>\n",
       "      <td>L'ABERGEMENT-CLEMENCIAT</td>\n",
       "      <td>AIN</td>\n",
       "      <td>RHONE-ALPES</td>\n",
       "      <td>Commune simple</td>\n",
       "      <td>242</td>\n",
       "      <td>15.65</td>\n",
       "      <td>0.8</td>\n",
       "      <td>46.1534255214, 4.92611354223</td>\n",
       "      <td>{\"type\": \"Polygon\", \"coordinates\": [[[4.926273...</td>\n",
       "    </tr>\n",
       "    <tr>\n",
       "      <th>01002</th>\n",
       "      <td>01640</td>\n",
       "      <td>L'ABERGEMENT-DE-VAREY</td>\n",
       "      <td>AIN</td>\n",
       "      <td>RHONE-ALPES</td>\n",
       "      <td>Commune simple</td>\n",
       "      <td>483</td>\n",
       "      <td>9.12</td>\n",
       "      <td>0.2</td>\n",
       "      <td>46.0091878776, 5.42801696363</td>\n",
       "      <td>{\"type\": \"Polygon\", \"coordinates\": [[[5.430089...</td>\n",
       "    </tr>\n",
       "    <tr>\n",
       "      <th>01004</th>\n",
       "      <td>01500</td>\n",
       "      <td>AMBERIEU-EN-BUGEY</td>\n",
       "      <td>AIN</td>\n",
       "      <td>RHONE-ALPES</td>\n",
       "      <td>Chef-lieu canton</td>\n",
       "      <td>379</td>\n",
       "      <td>24.48</td>\n",
       "      <td>13.4</td>\n",
       "      <td>45.9608475114, 5.3729257777</td>\n",
       "      <td>{\"type\": \"Polygon\", \"coordinates\": [[[5.386190...</td>\n",
       "    </tr>\n",
       "    <tr>\n",
       "      <th>01005</th>\n",
       "      <td>01330</td>\n",
       "      <td>AMBERIEUX-EN-DOMBES</td>\n",
       "      <td>AIN</td>\n",
       "      <td>RHONE-ALPES</td>\n",
       "      <td>Commune simple</td>\n",
       "      <td>290</td>\n",
       "      <td>16.05</td>\n",
       "      <td>1.6</td>\n",
       "      <td>45.9961799872, 4.91227250796</td>\n",
       "      <td>{\"type\": \"Polygon\", \"coordinates\": [[[4.895580...</td>\n",
       "    </tr>\n",
       "    <tr>\n",
       "      <th>01006</th>\n",
       "      <td>01300</td>\n",
       "      <td>AMBLEON</td>\n",
       "      <td>AIN</td>\n",
       "      <td>RHONE-ALPES</td>\n",
       "      <td>Commune simple</td>\n",
       "      <td>589</td>\n",
       "      <td>6.02</td>\n",
       "      <td>0.1</td>\n",
       "      <td>45.7494989044, 5.59432017366</td>\n",
       "      <td>{\"type\": \"Polygon\", \"coordinates\": [[[5.614854...</td>\n",
       "    </tr>\n",
       "  </tbody>\n",
       "</table>\n",
       "</div>"
      ],
      "text/plain": [
       "           Code Postal                  Commune Département       Région  \\\n",
       "Code INSEE                                                                 \n",
       "01001            01400  L'ABERGEMENT-CLEMENCIAT         AIN  RHONE-ALPES   \n",
       "01002            01640    L'ABERGEMENT-DE-VAREY         AIN  RHONE-ALPES   \n",
       "01004            01500        AMBERIEU-EN-BUGEY         AIN  RHONE-ALPES   \n",
       "01005            01330      AMBERIEUX-EN-DOMBES         AIN  RHONE-ALPES   \n",
       "01006            01300                  AMBLEON         AIN  RHONE-ALPES   \n",
       "\n",
       "                      Statut  Altitude Moyenne  Superficie  Population  \\\n",
       "Code INSEE                                                               \n",
       "01001         Commune simple               242       15.65         0.8   \n",
       "01002         Commune simple               483        9.12         0.2   \n",
       "01004       Chef-lieu canton               379       24.48        13.4   \n",
       "01005         Commune simple               290       16.05         1.6   \n",
       "01006         Commune simple               589        6.02         0.1   \n",
       "\n",
       "                            geo_point_2d  \\\n",
       "Code INSEE                                 \n",
       "01001       46.1534255214, 4.92611354223   \n",
       "01002       46.0091878776, 5.42801696363   \n",
       "01004        45.9608475114, 5.3729257777   \n",
       "01005       45.9961799872, 4.91227250796   \n",
       "01006       45.7494989044, 5.59432017366   \n",
       "\n",
       "                                                    geo_shape  \n",
       "Code INSEE                                                     \n",
       "01001       {\"type\": \"Polygon\", \"coordinates\": [[[4.926273...  \n",
       "01002       {\"type\": \"Polygon\", \"coordinates\": [[[5.430089...  \n",
       "01004       {\"type\": \"Polygon\", \"coordinates\": [[[5.386190...  \n",
       "01005       {\"type\": \"Polygon\", \"coordinates\": [[[4.895580...  \n",
       "01006       {\"type\": \"Polygon\", \"coordinates\": [[[5.614854...  "
      ]
     },
     "execution_count": 23,
     "metadata": {},
     "output_type": "execute_result"
    }
   ],
   "source": [
    "df[\"Altitude Moyenne\"] = df[\"Altitude Moyenne\"].astype(int)\n",
    "\n",
    "df.head()"
   ]
  },
  {
   "cell_type": "code",
   "execution_count": 24,
   "id": "74345b8e-8b6a-42ba-acd4-553fca8ffc5c",
   "metadata": {},
   "outputs": [
    {
     "data": {
      "text/plain": [
       "array(['Commune simple', 'Chef-lieu canton', 'Sous-préfecture',\n",
       "       'Préfecture', 'Préfecture de région', \"Capitale d'état\"],\n",
       "      dtype=object)"
      ]
     },
     "execution_count": 24,
     "metadata": {},
     "output_type": "execute_result"
    }
   ],
   "source": [
    "df[\"Statut\"].unique()"
   ]
  },
  {
   "cell_type": "code",
   "execution_count": 25,
   "id": "090da7a0-5684-4391-b19b-1d597b12f584",
   "metadata": {},
   "outputs": [
    {
     "name": "stdout",
     "output_type": "stream",
     "text": [
      "<class 'pandas.core.frame.DataFrame'>\n",
      "Index: 36742 entries, 01001 to 97617\n",
      "Data columns (total 10 columns):\n",
      " #   Column            Non-Null Count  Dtype  \n",
      "---  ------            --------------  -----  \n",
      " 0   Code Postal       36742 non-null  object \n",
      " 1   Commune           36742 non-null  object \n",
      " 2   Département       36742 non-null  object \n",
      " 3   Région            36742 non-null  object \n",
      " 4   Statut            36742 non-null  object \n",
      " 5   Altitude Moyenne  36742 non-null  int64  \n",
      " 6   Superficie        36742 non-null  float64\n",
      " 7   Population        36742 non-null  float64\n",
      " 8   geo_point_2d      36742 non-null  object \n",
      " 9   geo_shape         36742 non-null  object \n",
      "dtypes: float64(2), int64(1), object(7)\n",
      "memory usage: 4.1+ MB\n"
     ]
    }
   ],
   "source": [
    "df.info()"
   ]
  },
  {
   "cell_type": "code",
   "execution_count": 26,
   "id": "3ea077a6-5cf0-4420-95e3-2797239062fd",
   "metadata": {},
   "outputs": [
    {
     "name": "stdout",
     "output_type": "stream",
     "text": [
      "<class 'pandas.core.frame.DataFrame'>\n",
      "Index: 36742 entries, 01001 to 97617\n",
      "Data columns (total 10 columns):\n",
      " #   Column            Non-Null Count  Dtype   \n",
      "---  ------            --------------  -----   \n",
      " 0   Code Postal       36742 non-null  object  \n",
      " 1   Commune           36742 non-null  object  \n",
      " 2   Département       36742 non-null  object  \n",
      " 3   Région            36742 non-null  object  \n",
      " 4   Statut            36742 non-null  category\n",
      " 5   Altitude Moyenne  36742 non-null  int64   \n",
      " 6   Superficie        36742 non-null  float64 \n",
      " 7   Population        36742 non-null  float64 \n",
      " 8   geo_point_2d      36742 non-null  object  \n",
      " 9   geo_shape         36742 non-null  object  \n",
      "dtypes: category(1), float64(2), int64(1), object(6)\n",
      "memory usage: 3.8+ MB\n"
     ]
    }
   ],
   "source": [
    "cat_statut = pd.CategoricalDtype(categories=['Commune simple', 'Chef-lieu canton', 'Sous-préfecture', 'Préfecture', 'Préfecture de région', \"Capitale d'état\"],\n",
    "                                 ordered=True)\n",
    "df[\"Statut\"] = df[\"Statut\"].astype(cat_statut)\n",
    "\n",
    "df.info()"
   ]
  },
  {
   "cell_type": "code",
   "execution_count": 27,
   "id": "3f6def25-3614-433d-906a-b41007918552",
   "metadata": {},
   "outputs": [
    {
     "data": {
      "text/plain": [
       "Code INSEE\n",
       "01001    0\n",
       "01002    0\n",
       "01004    1\n",
       "01005    0\n",
       "01006    0\n",
       "01007    0\n",
       "01008    0\n",
       "01009    0\n",
       "        ..\n",
       "97610    1\n",
       "97611    2\n",
       "97612    1\n",
       "97613    1\n",
       "97614    1\n",
       "97615    1\n",
       "97616    1\n",
       "97617    1\n",
       "Length: 36742, dtype: int8"
      ]
     },
     "execution_count": 27,
     "metadata": {},
     "output_type": "execute_result"
    }
   ],
   "source": [
    "df[\"Statut\"].cat.codes"
   ]
  },
  {
   "cell_type": "code",
   "execution_count": 28,
   "id": "0c8db658-111a-4ed7-b48b-51686bcee9c7",
   "metadata": {},
   "outputs": [
    {
     "data": {
      "text/plain": [
       "Code INSEE\n",
       "01001      Commune simple\n",
       "01002      Commune simple\n",
       "01004    Chef-lieu canton\n",
       "01005      Commune simple\n",
       "01006      Commune simple\n",
       "01007      Commune simple\n",
       "01008      Commune simple\n",
       "01009      Commune simple\n",
       "               ...       \n",
       "97610    Chef-lieu canton\n",
       "97611     Sous-préfecture\n",
       "97612    Chef-lieu canton\n",
       "97613    Chef-lieu canton\n",
       "97614    Chef-lieu canton\n",
       "97615    Chef-lieu canton\n",
       "97616    Chef-lieu canton\n",
       "97617    Chef-lieu canton\n",
       "Name: Statut, Length: 36742, dtype: category\n",
       "Categories (6, object): ['Commune simple' < 'Chef-lieu canton' < 'Sous-préfecture' < 'Préfecture' < 'Préfecture de région' < 'Capitale d'état']"
      ]
     },
     "execution_count": 28,
     "metadata": {},
     "output_type": "execute_result"
    }
   ],
   "source": [
    "df[\"Statut\"]"
   ]
  },
  {
   "cell_type": "code",
   "execution_count": 29,
   "id": "27e22ef7-089e-4074-9ba3-3fb43f9213b2",
   "metadata": {},
   "outputs": [
    {
     "data": {
      "text/html": [
       "<div>\n",
       "<style scoped>\n",
       "    .dataframe tbody tr th:only-of-type {\n",
       "        vertical-align: middle;\n",
       "    }\n",
       "\n",
       "    .dataframe tbody tr th {\n",
       "        vertical-align: top;\n",
       "    }\n",
       "\n",
       "    .dataframe thead th {\n",
       "        text-align: right;\n",
       "    }\n",
       "</style>\n",
       "<table border=\"1\" class=\"dataframe\">\n",
       "  <thead>\n",
       "    <tr style=\"text-align: right;\">\n",
       "      <th></th>\n",
       "      <th>Code Postal</th>\n",
       "      <th>Commune</th>\n",
       "      <th>Département</th>\n",
       "      <th>Région</th>\n",
       "      <th>Statut</th>\n",
       "      <th>Altitude Moyenne</th>\n",
       "      <th>Superficie</th>\n",
       "      <th>Population</th>\n",
       "      <th>geo_point_2d</th>\n",
       "      <th>geo_shape</th>\n",
       "      <th>CP Ville</th>\n",
       "    </tr>\n",
       "    <tr>\n",
       "      <th>Code INSEE</th>\n",
       "      <th></th>\n",
       "      <th></th>\n",
       "      <th></th>\n",
       "      <th></th>\n",
       "      <th></th>\n",
       "      <th></th>\n",
       "      <th></th>\n",
       "      <th></th>\n",
       "      <th></th>\n",
       "      <th></th>\n",
       "      <th></th>\n",
       "    </tr>\n",
       "  </thead>\n",
       "  <tbody>\n",
       "    <tr>\n",
       "      <th>01001</th>\n",
       "      <td>01400</td>\n",
       "      <td>L'ABERGEMENT-CLEMENCIAT</td>\n",
       "      <td>AIN</td>\n",
       "      <td>RHONE-ALPES</td>\n",
       "      <td>Commune simple</td>\n",
       "      <td>242</td>\n",
       "      <td>15.65</td>\n",
       "      <td>0.8</td>\n",
       "      <td>46.1534255214, 4.92611354223</td>\n",
       "      <td>{\"type\": \"Polygon\", \"coordinates\": [[[4.926273...</td>\n",
       "      <td>01400 L'ABERGEMENT-CLEMENCIAT</td>\n",
       "    </tr>\n",
       "    <tr>\n",
       "      <th>01002</th>\n",
       "      <td>01640</td>\n",
       "      <td>L'ABERGEMENT-DE-VAREY</td>\n",
       "      <td>AIN</td>\n",
       "      <td>RHONE-ALPES</td>\n",
       "      <td>Commune simple</td>\n",
       "      <td>483</td>\n",
       "      <td>9.12</td>\n",
       "      <td>0.2</td>\n",
       "      <td>46.0091878776, 5.42801696363</td>\n",
       "      <td>{\"type\": \"Polygon\", \"coordinates\": [[[5.430089...</td>\n",
       "      <td>01640 L'ABERGEMENT-DE-VAREY</td>\n",
       "    </tr>\n",
       "    <tr>\n",
       "      <th>01004</th>\n",
       "      <td>01500</td>\n",
       "      <td>AMBERIEU-EN-BUGEY</td>\n",
       "      <td>AIN</td>\n",
       "      <td>RHONE-ALPES</td>\n",
       "      <td>Chef-lieu canton</td>\n",
       "      <td>379</td>\n",
       "      <td>24.48</td>\n",
       "      <td>13.4</td>\n",
       "      <td>45.9608475114, 5.3729257777</td>\n",
       "      <td>{\"type\": \"Polygon\", \"coordinates\": [[[5.386190...</td>\n",
       "      <td>01500 AMBERIEU-EN-BUGEY</td>\n",
       "    </tr>\n",
       "    <tr>\n",
       "      <th>01005</th>\n",
       "      <td>01330</td>\n",
       "      <td>AMBERIEUX-EN-DOMBES</td>\n",
       "      <td>AIN</td>\n",
       "      <td>RHONE-ALPES</td>\n",
       "      <td>Commune simple</td>\n",
       "      <td>290</td>\n",
       "      <td>16.05</td>\n",
       "      <td>1.6</td>\n",
       "      <td>45.9961799872, 4.91227250796</td>\n",
       "      <td>{\"type\": \"Polygon\", \"coordinates\": [[[4.895580...</td>\n",
       "      <td>01330 AMBERIEUX-EN-DOMBES</td>\n",
       "    </tr>\n",
       "    <tr>\n",
       "      <th>01006</th>\n",
       "      <td>01300</td>\n",
       "      <td>AMBLEON</td>\n",
       "      <td>AIN</td>\n",
       "      <td>RHONE-ALPES</td>\n",
       "      <td>Commune simple</td>\n",
       "      <td>589</td>\n",
       "      <td>6.02</td>\n",
       "      <td>0.1</td>\n",
       "      <td>45.7494989044, 5.59432017366</td>\n",
       "      <td>{\"type\": \"Polygon\", \"coordinates\": [[[5.614854...</td>\n",
       "      <td>01300 AMBLEON</td>\n",
       "    </tr>\n",
       "  </tbody>\n",
       "</table>\n",
       "</div>"
      ],
      "text/plain": [
       "           Code Postal                  Commune Département       Région  \\\n",
       "Code INSEE                                                                 \n",
       "01001            01400  L'ABERGEMENT-CLEMENCIAT         AIN  RHONE-ALPES   \n",
       "01002            01640    L'ABERGEMENT-DE-VAREY         AIN  RHONE-ALPES   \n",
       "01004            01500        AMBERIEU-EN-BUGEY         AIN  RHONE-ALPES   \n",
       "01005            01330      AMBERIEUX-EN-DOMBES         AIN  RHONE-ALPES   \n",
       "01006            01300                  AMBLEON         AIN  RHONE-ALPES   \n",
       "\n",
       "                      Statut  Altitude Moyenne  Superficie  Population  \\\n",
       "Code INSEE                                                               \n",
       "01001         Commune simple               242       15.65         0.8   \n",
       "01002         Commune simple               483        9.12         0.2   \n",
       "01004       Chef-lieu canton               379       24.48        13.4   \n",
       "01005         Commune simple               290       16.05         1.6   \n",
       "01006         Commune simple               589        6.02         0.1   \n",
       "\n",
       "                            geo_point_2d  \\\n",
       "Code INSEE                                 \n",
       "01001       46.1534255214, 4.92611354223   \n",
       "01002       46.0091878776, 5.42801696363   \n",
       "01004        45.9608475114, 5.3729257777   \n",
       "01005       45.9961799872, 4.91227250796   \n",
       "01006       45.7494989044, 5.59432017366   \n",
       "\n",
       "                                                    geo_shape  \\\n",
       "Code INSEE                                                      \n",
       "01001       {\"type\": \"Polygon\", \"coordinates\": [[[4.926273...   \n",
       "01002       {\"type\": \"Polygon\", \"coordinates\": [[[5.430089...   \n",
       "01004       {\"type\": \"Polygon\", \"coordinates\": [[[5.386190...   \n",
       "01005       {\"type\": \"Polygon\", \"coordinates\": [[[4.895580...   \n",
       "01006       {\"type\": \"Polygon\", \"coordinates\": [[[5.614854...   \n",
       "\n",
       "                                 CP Ville  \n",
       "Code INSEE                                 \n",
       "01001       01400 L'ABERGEMENT-CLEMENCIAT  \n",
       "01002         01640 L'ABERGEMENT-DE-VAREY  \n",
       "01004             01500 AMBERIEU-EN-BUGEY  \n",
       "01005           01330 AMBERIEUX-EN-DOMBES  \n",
       "01006                       01300 AMBLEON  "
      ]
     },
     "execution_count": 29,
     "metadata": {},
     "output_type": "execute_result"
    }
   ],
   "source": [
    "df[\"CP Ville\"] = df[\"Code Postal\"] + \" \" + df[\"Commune\"]\n",
    "\n",
    "df.head()"
   ]
  },
  {
   "cell_type": "code",
   "execution_count": 30,
   "id": "ed3ae4f2-68ea-46dd-9a8d-dc116217f512",
   "metadata": {},
   "outputs": [
    {
     "data": {
      "text/plain": [
       "['46.1534255214', '4.92611354223']"
      ]
     },
     "execution_count": 30,
     "metadata": {},
     "output_type": "execute_result"
    }
   ],
   "source": [
    "df[\"geo_point_2d\"].iloc[0].split(\", \")"
   ]
  },
  {
   "cell_type": "code",
   "execution_count": 31,
   "id": "b42df15b-935d-468d-9ba1-d4d1f8ef6b90",
   "metadata": {},
   "outputs": [
    {
     "data": {
      "text/plain": [
       "Code INSEE\n",
       "01001     4.926114\n",
       "01002     5.428017\n",
       "01004     5.372926\n",
       "01005     4.912273\n",
       "01006     5.594320\n",
       "01007     5.357607\n",
       "01008     5.332809\n",
       "01009     5.657883\n",
       "           ...    \n",
       "97610    45.186999\n",
       "97611    45.193246\n",
       "97612    45.073680\n",
       "97613    45.087170\n",
       "97614    45.137910\n",
       "97615    45.284206\n",
       "97616    45.118550\n",
       "97617    45.134428\n",
       "Name: geo_point_2d, Length: 36742, dtype: float64"
      ]
     },
     "execution_count": 31,
     "metadata": {},
     "output_type": "execute_result"
    }
   ],
   "source": [
    "# latitude\n",
    "df[\"geo_point_2d\"].apply(lambda x: x.split(\", \")[0]).astype(float)\n",
    "# longitude\n",
    "df[\"geo_point_2d\"].apply(lambda x: x.split(\", \")[1]).astype(float)"
   ]
  },
  {
   "cell_type": "code",
   "execution_count": 32,
   "id": "eb376b92-91a5-457d-8763-d98d9c8ec940",
   "metadata": {},
   "outputs": [
    {
     "data": {
      "text/html": [
       "<div>\n",
       "<style scoped>\n",
       "    .dataframe tbody tr th:only-of-type {\n",
       "        vertical-align: middle;\n",
       "    }\n",
       "\n",
       "    .dataframe tbody tr th {\n",
       "        vertical-align: top;\n",
       "    }\n",
       "\n",
       "    .dataframe thead th {\n",
       "        text-align: right;\n",
       "    }\n",
       "</style>\n",
       "<table border=\"1\" class=\"dataframe\">\n",
       "  <thead>\n",
       "    <tr style=\"text-align: right;\">\n",
       "      <th></th>\n",
       "      <th>Code Postal</th>\n",
       "      <th>Commune</th>\n",
       "      <th>Département</th>\n",
       "      <th>Région</th>\n",
       "      <th>Statut</th>\n",
       "      <th>Altitude Moyenne</th>\n",
       "      <th>Superficie</th>\n",
       "      <th>Population</th>\n",
       "      <th>geo_point_2d</th>\n",
       "      <th>geo_shape</th>\n",
       "      <th>CP Ville</th>\n",
       "      <th>Latitude</th>\n",
       "      <th>Longitude</th>\n",
       "    </tr>\n",
       "    <tr>\n",
       "      <th>Code INSEE</th>\n",
       "      <th></th>\n",
       "      <th></th>\n",
       "      <th></th>\n",
       "      <th></th>\n",
       "      <th></th>\n",
       "      <th></th>\n",
       "      <th></th>\n",
       "      <th></th>\n",
       "      <th></th>\n",
       "      <th></th>\n",
       "      <th></th>\n",
       "      <th></th>\n",
       "      <th></th>\n",
       "    </tr>\n",
       "  </thead>\n",
       "  <tbody>\n",
       "    <tr>\n",
       "      <th>01001</th>\n",
       "      <td>01400</td>\n",
       "      <td>L'ABERGEMENT-CLEMENCIAT</td>\n",
       "      <td>AIN</td>\n",
       "      <td>RHONE-ALPES</td>\n",
       "      <td>Commune simple</td>\n",
       "      <td>242</td>\n",
       "      <td>15.65</td>\n",
       "      <td>0.8</td>\n",
       "      <td>46.1534255214, 4.92611354223</td>\n",
       "      <td>{\"type\": \"Polygon\", \"coordinates\": [[[4.926273...</td>\n",
       "      <td>01400 L'ABERGEMENT-CLEMENCIAT</td>\n",
       "      <td>46.153426</td>\n",
       "      <td>4.926114</td>\n",
       "    </tr>\n",
       "    <tr>\n",
       "      <th>01002</th>\n",
       "      <td>01640</td>\n",
       "      <td>L'ABERGEMENT-DE-VAREY</td>\n",
       "      <td>AIN</td>\n",
       "      <td>RHONE-ALPES</td>\n",
       "      <td>Commune simple</td>\n",
       "      <td>483</td>\n",
       "      <td>9.12</td>\n",
       "      <td>0.2</td>\n",
       "      <td>46.0091878776, 5.42801696363</td>\n",
       "      <td>{\"type\": \"Polygon\", \"coordinates\": [[[5.430089...</td>\n",
       "      <td>01640 L'ABERGEMENT-DE-VAREY</td>\n",
       "      <td>46.009188</td>\n",
       "      <td>5.428017</td>\n",
       "    </tr>\n",
       "    <tr>\n",
       "      <th>01004</th>\n",
       "      <td>01500</td>\n",
       "      <td>AMBERIEU-EN-BUGEY</td>\n",
       "      <td>AIN</td>\n",
       "      <td>RHONE-ALPES</td>\n",
       "      <td>Chef-lieu canton</td>\n",
       "      <td>379</td>\n",
       "      <td>24.48</td>\n",
       "      <td>13.4</td>\n",
       "      <td>45.9608475114, 5.3729257777</td>\n",
       "      <td>{\"type\": \"Polygon\", \"coordinates\": [[[5.386190...</td>\n",
       "      <td>01500 AMBERIEU-EN-BUGEY</td>\n",
       "      <td>45.960848</td>\n",
       "      <td>5.372926</td>\n",
       "    </tr>\n",
       "    <tr>\n",
       "      <th>01005</th>\n",
       "      <td>01330</td>\n",
       "      <td>AMBERIEUX-EN-DOMBES</td>\n",
       "      <td>AIN</td>\n",
       "      <td>RHONE-ALPES</td>\n",
       "      <td>Commune simple</td>\n",
       "      <td>290</td>\n",
       "      <td>16.05</td>\n",
       "      <td>1.6</td>\n",
       "      <td>45.9961799872, 4.91227250796</td>\n",
       "      <td>{\"type\": \"Polygon\", \"coordinates\": [[[4.895580...</td>\n",
       "      <td>01330 AMBERIEUX-EN-DOMBES</td>\n",
       "      <td>45.996180</td>\n",
       "      <td>4.912273</td>\n",
       "    </tr>\n",
       "    <tr>\n",
       "      <th>01006</th>\n",
       "      <td>01300</td>\n",
       "      <td>AMBLEON</td>\n",
       "      <td>AIN</td>\n",
       "      <td>RHONE-ALPES</td>\n",
       "      <td>Commune simple</td>\n",
       "      <td>589</td>\n",
       "      <td>6.02</td>\n",
       "      <td>0.1</td>\n",
       "      <td>45.7494989044, 5.59432017366</td>\n",
       "      <td>{\"type\": \"Polygon\", \"coordinates\": [[[5.614854...</td>\n",
       "      <td>01300 AMBLEON</td>\n",
       "      <td>45.749499</td>\n",
       "      <td>5.594320</td>\n",
       "    </tr>\n",
       "  </tbody>\n",
       "</table>\n",
       "</div>"
      ],
      "text/plain": [
       "           Code Postal                  Commune Département       Région  \\\n",
       "Code INSEE                                                                 \n",
       "01001            01400  L'ABERGEMENT-CLEMENCIAT         AIN  RHONE-ALPES   \n",
       "01002            01640    L'ABERGEMENT-DE-VAREY         AIN  RHONE-ALPES   \n",
       "01004            01500        AMBERIEU-EN-BUGEY         AIN  RHONE-ALPES   \n",
       "01005            01330      AMBERIEUX-EN-DOMBES         AIN  RHONE-ALPES   \n",
       "01006            01300                  AMBLEON         AIN  RHONE-ALPES   \n",
       "\n",
       "                      Statut  Altitude Moyenne  Superficie  Population  \\\n",
       "Code INSEE                                                               \n",
       "01001         Commune simple               242       15.65         0.8   \n",
       "01002         Commune simple               483        9.12         0.2   \n",
       "01004       Chef-lieu canton               379       24.48        13.4   \n",
       "01005         Commune simple               290       16.05         1.6   \n",
       "01006         Commune simple               589        6.02         0.1   \n",
       "\n",
       "                            geo_point_2d  \\\n",
       "Code INSEE                                 \n",
       "01001       46.1534255214, 4.92611354223   \n",
       "01002       46.0091878776, 5.42801696363   \n",
       "01004        45.9608475114, 5.3729257777   \n",
       "01005       45.9961799872, 4.91227250796   \n",
       "01006       45.7494989044, 5.59432017366   \n",
       "\n",
       "                                                    geo_shape  \\\n",
       "Code INSEE                                                      \n",
       "01001       {\"type\": \"Polygon\", \"coordinates\": [[[4.926273...   \n",
       "01002       {\"type\": \"Polygon\", \"coordinates\": [[[5.430089...   \n",
       "01004       {\"type\": \"Polygon\", \"coordinates\": [[[5.386190...   \n",
       "01005       {\"type\": \"Polygon\", \"coordinates\": [[[4.895580...   \n",
       "01006       {\"type\": \"Polygon\", \"coordinates\": [[[5.614854...   \n",
       "\n",
       "                                 CP Ville   Latitude  Longitude  \n",
       "Code INSEE                                                       \n",
       "01001       01400 L'ABERGEMENT-CLEMENCIAT  46.153426   4.926114  \n",
       "01002         01640 L'ABERGEMENT-DE-VAREY  46.009188   5.428017  \n",
       "01004             01500 AMBERIEU-EN-BUGEY  45.960848   5.372926  \n",
       "01005           01330 AMBERIEUX-EN-DOMBES  45.996180   4.912273  \n",
       "01006                       01300 AMBLEON  45.749499   5.594320  "
      ]
     },
     "execution_count": 32,
     "metadata": {},
     "output_type": "execute_result"
    }
   ],
   "source": [
    "df[[\"Latitude\", \"Longitude\"]] = df[\"geo_point_2d\"].str.extract(r\"(.*), (.*)\").astype(float)\n",
    "\n",
    "df.head()"
   ]
  },
  {
   "cell_type": "code",
   "execution_count": 33,
   "id": "eb637f8e-1122-4781-8398-98bef07decde",
   "metadata": {},
   "outputs": [
    {
     "name": "stdout",
     "output_type": "stream",
     "text": [
      "<class 'pandas.core.frame.DataFrame'>\n",
      "Index: 36742 entries, 01001 to 97617\n",
      "Data columns (total 13 columns):\n",
      " #   Column            Non-Null Count  Dtype   \n",
      "---  ------            --------------  -----   \n",
      " 0   Code Postal       36742 non-null  object  \n",
      " 1   Commune           36742 non-null  object  \n",
      " 2   Département       36742 non-null  object  \n",
      " 3   Région            36742 non-null  object  \n",
      " 4   Statut            36742 non-null  category\n",
      " 5   Altitude Moyenne  36742 non-null  int64   \n",
      " 6   Superficie        36742 non-null  float64 \n",
      " 7   Population        36742 non-null  float64 \n",
      " 8   geo_point_2d      36742 non-null  object  \n",
      " 9   geo_shape         36742 non-null  object  \n",
      " 10  CP Ville          36742 non-null  object  \n",
      " 11  Latitude          36742 non-null  float64 \n",
      " 12  Longitude         36742 non-null  float64 \n",
      "dtypes: category(1), float64(4), int64(1), object(7)\n",
      "memory usage: 4.7+ MB\n"
     ]
    }
   ],
   "source": [
    "df.info()"
   ]
  },
  {
   "cell_type": "code",
   "execution_count": 34,
   "id": "ff289e1e-78e4-45e1-9360-5c21b9af5f8d",
   "metadata": {},
   "outputs": [],
   "source": [
    "import numpy as np\n",
    "\n",
    "def ville(lat, long):\n",
    "    dist = np.sqrt((df[\"Latitude\"] - lat)**2 + (df[\"Longitude\"] - long)**2)\n",
    "    return df.loc[dist.idxmin(), \"CP Ville\"]"
   ]
  },
  {
   "cell_type": "code",
   "execution_count": 35,
   "id": "1300381b-599f-422a-9d0e-6bffef2c8387",
   "metadata": {},
   "outputs": [],
   "source": [
    "def ville2(lat, long):\n",
    "    dist2 = (df[\"Latitude\"] - lat)**2 + (df[\"Longitude\"] - long)**2\n",
    "    return df.loc[dist2.idxmin(), \"CP Ville\"]"
   ]
  },
  {
   "cell_type": "code",
   "execution_count": 36,
   "id": "f3ea388d-99d2-4439-bb63-445d661314ef",
   "metadata": {},
   "outputs": [
    {
     "data": {
      "text/plain": [
       "Code INSEE\n",
       "07161      MONTPEZAT-SOUS-BAUZON\n",
       "09105         DAUMAZAN-SUR-ARIZE\n",
       "09167             LEZAT-SUR-LEZE\n",
       "11034           BELVEZE-DU-RAZES\n",
       "11228        MAZEROLLES-DU-RAZES\n",
       "11417         VILLARZEL-DU-RAZES\n",
       "12294          VEZINS-DE-LEVEZOU\n",
       "16378                TAIZE-AIZIE\n",
       "                  ...           \n",
       "69229    SAINT-NIZIER-D'AZERGUES\n",
       "71174        DEZIZE-LES-MARANGES\n",
       "74310            VIUZ-LA-CHIESAZ\n",
       "74311             VIUZ-EN-SALLAZ\n",
       "78337              LIMETZ-VILLEZ\n",
       "88404        ROZIERES-SUR-MOUZON\n",
       "95282                 GOUZANGREZ\n",
       "97608                   DZAOUDZI\n",
       "Name: Commune, Length: 67, dtype: object"
      ]
     },
     "execution_count": 36,
     "metadata": {},
     "output_type": "execute_result"
    }
   ],
   "source": [
    "df.loc[df[\"Commune\"].str.contains(\"Z.*Z\"), \"Commune\"]"
   ]
  },
  {
   "cell_type": "code",
   "execution_count": 37,
   "id": "35dca21c-bf1e-495f-b39e-40833fdc2519",
   "metadata": {},
   "outputs": [],
   "source": [
    "def gps2dec(deg, mn, sec):\n",
    "    return deg + mn/60 + sec/3600"
   ]
  },
  {
   "cell_type": "code",
   "execution_count": 38,
   "id": "8b0d6bb3-caf1-4ef0-936e-6ce168f6c70b",
   "metadata": {},
   "outputs": [
    {
     "data": {
      "text/plain": [
       "'80190 Y'"
      ]
     },
     "execution_count": 38,
     "metadata": {},
     "output_type": "execute_result"
    }
   ],
   "source": [
    "# 49° 48′ 14″ nord, 2° 59′ 34″ est\n",
    "ville(gps2dec(49, 48, 14), gps2dec(2, 59, 34))"
   ]
  },
  {
   "cell_type": "code",
   "execution_count": 39,
   "id": "f03f8ba5-ee41-4a96-9eb4-f46ded19779c",
   "metadata": {},
   "outputs": [
    {
     "data": {
      "text/plain": [
       "'34120 LEZIGNAN-LA-CEBE'"
      ]
     },
     "execution_count": 39,
     "metadata": {},
     "output_type": "execute_result"
    }
   ],
   "source": [
    "# 43° 29′ 38″ nord, 3° 26′ 16″ est\n",
    "ville(gps2dec(43, 29, 38), gps2dec(3, 26, 16))"
   ]
  },
  {
   "cell_type": "code",
   "execution_count": 40,
   "id": "76756e20-1cd8-4d95-ad82-1346a6de4fba",
   "metadata": {},
   "outputs": [
    {
     "data": {
      "text/plain": [
       "'34120 LEZIGNAN-LA-CEBE'"
      ]
     },
     "execution_count": 40,
     "metadata": {},
     "output_type": "execute_result"
    }
   ],
   "source": [
    "# 43° 29′ 38″ nord, 3° 26′ 16″ est\n",
    "ville2(gps2dec(43, 29, 38), gps2dec(3, 26, 16))"
   ]
  },
  {
   "cell_type": "code",
   "execution_count": 41,
   "id": "42beab84-7171-477d-bf13-9df15a7586f0",
   "metadata": {},
   "outputs": [
    {
     "data": {
      "text/plain": [
       "'{\"type\": \"Polygon\", \"coordinates\": [[[4.92627342692396, 46.1200517234555], [4.92199538031264, 46.12069170563269], [4.921996260482057, 46.12663667307488], [4.90936269187648, 46.129164756530656], [4.916016986429157, 46.14461766984426], [4.903080786126749, 46.157977074275074], [4.904571300671208, 46.16096059498421], [4.910603091203733, 46.180432597608316], [4.914119126867876, 46.18271538441311], [4.932895432675545, 46.18304616431434], [4.938729478686701, 46.17383114520867], [4.933038591703602, 46.16429901579509], [4.958286230120842, 46.153246666893935], [4.943330383388636, 46.145964148557894], [4.939154593056283, 46.12938048470421], [4.931056072485923, 46.12087123131487], [4.92627342692396, 46.1200517234555]]]}'"
      ]
     },
     "execution_count": 41,
     "metadata": {},
     "output_type": "execute_result"
    }
   ],
   "source": [
    "df[\"geo_shape\"].iloc[0]"
   ]
  },
  {
   "cell_type": "code",
   "execution_count": 42,
   "id": "5a139e44-4416-4e67-b84c-e1048d9ce61c",
   "metadata": {},
   "outputs": [
    {
     "data": {
      "text/plain": [
       "{'type': 'Polygon',\n",
       " 'coordinates': [[[4.92627342692396, 46.1200517234555],\n",
       "   [4.92199538031264, 46.12069170563269],\n",
       "   [4.921996260482057, 46.12663667307488],\n",
       "   [4.90936269187648, 46.129164756530656],\n",
       "   [4.916016986429157, 46.14461766984426],\n",
       "   [4.903080786126749, 46.157977074275074],\n",
       "   [4.904571300671208, 46.16096059498421],\n",
       "   [4.910603091203733, 46.180432597608316],\n",
       "   [4.914119126867876, 46.18271538441311],\n",
       "   [4.932895432675545, 46.18304616431434],\n",
       "   [4.938729478686701, 46.17383114520867],\n",
       "   [4.933038591703602, 46.16429901579509],\n",
       "   [4.958286230120842, 46.153246666893935],\n",
       "   [4.943330383388636, 46.145964148557894],\n",
       "   [4.939154593056283, 46.12938048470421],\n",
       "   [4.931056072485923, 46.12087123131487],\n",
       "   [4.92627342692396, 46.1200517234555]]]}"
      ]
     },
     "execution_count": 42,
     "metadata": {},
     "output_type": "execute_result"
    }
   ],
   "source": [
    "import json\n",
    "\n",
    "json.loads(df[\"geo_shape\"].iloc[0])"
   ]
  },
  {
   "cell_type": "code",
   "execution_count": 43,
   "id": "327d6541-b42e-4c1e-8356-b4d45490d334",
   "metadata": {},
   "outputs": [
    {
     "data": {
      "text/plain": [
       "'Polygon'"
      ]
     },
     "execution_count": 43,
     "metadata": {},
     "output_type": "execute_result"
    }
   ],
   "source": [
    "geo_shape = df[\"geo_shape\"].apply(json.loads)\n",
    "geo_shape.iloc[0][\"type\"]"
   ]
  },
  {
   "cell_type": "code",
   "execution_count": 49,
   "id": "c35c5fb9-4da0-4bb5-beb7-bec094d2f502",
   "metadata": {},
   "outputs": [
    {
     "data": {
      "text/plain": [
       "geo_shape\n",
       "Polygon         36670\n",
       "MultiPolygon       72\n",
       "Name: count, dtype: int64"
      ]
     },
     "execution_count": 49,
     "metadata": {},
     "output_type": "execute_result"
    }
   ],
   "source": [
    "geo_shape.apply(lambda d: d[\"type\"]).value_counts()"
   ]
  },
  {
   "cell_type": "code",
   "execution_count": 52,
   "id": "2a57b755-8dac-4252-9dbc-86f5c98120cb",
   "metadata": {},
   "outputs": [
    {
     "data": {
      "text/plain": [
       "geo_shape\n",
       "1    36660\n",
       "2       80\n",
       "3        1\n",
       "4        1\n",
       "Name: count, dtype: int64"
      ]
     },
     "execution_count": 52,
     "metadata": {},
     "output_type": "execute_result"
    }
   ],
   "source": [
    "geo_shape.apply(lambda d: len(d[\"coordinates\"])).value_counts()"
   ]
  },
  {
   "cell_type": "code",
   "execution_count": 55,
   "id": "9ab97d66-7c04-460f-af42-53c7e5b8014f",
   "metadata": {},
   "outputs": [
    {
     "data": {
      "text/plain": [
       "'83400 HYERES'"
      ]
     },
     "execution_count": 55,
     "metadata": {},
     "output_type": "execute_result"
    }
   ],
   "source": [
    "df.loc[geo_shape.apply(lambda d: len(d[\"coordinates\"])).idxmax(), \"CP Ville\"]"
   ]
  },
  {
   "cell_type": "code",
   "execution_count": 58,
   "id": "eaa91ad6-4d70-4ffe-b2a1-497e827a9820",
   "metadata": {},
   "outputs": [
    {
     "data": {
      "text/plain": [
       "Code INSEE\n",
       "02232               02600 COYOLLES\n",
       "05052               05600 EYGLIERS\n",
       "09042    09240 LA BASTIDE-DE-SEROU\n",
       "22209              22650 PLOUBALAY\n",
       "2A272                20100 SARTENE\n",
       "2B049              20214 CALENZANA\n",
       "48080               48300 LANGOGNE\n",
       "67486              67920 SUNDHOUSE\n",
       "68078              68420 EGUISHEIM\n",
       "71028            71270 BEAUVERNOIS\n",
       "Name: CP Ville, dtype: object"
      ]
     },
     "execution_count": 58,
     "metadata": {},
     "output_type": "execute_result"
    }
   ],
   "source": [
    "df.loc[(geo_shape.apply(lambda d: d[\"type\"]) == \"Polygon\") & (geo_shape.apply(lambda d: len(d[\"coordinates\"])) == 2), \"CP Ville\"]"
   ]
  },
  {
   "cell_type": "code",
   "execution_count": 65,
   "id": "f5426302-6bba-4dbc-8691-8466d2de3bb9",
   "metadata": {},
   "outputs": [
    {
     "data": {
      "image/png": "[encoded data removed]",
      "text/plain": [
       "<Figure size 640x480 with 1 Axes>"
      ]
     },
     "metadata": {},
     "output_type": "display_data"
    }
   ],
   "source": [
    "ax = df[\"Commune\"].str.len().plot.hist(bins=45)  # ou bien ;"
   ]
  },
  {
   "cell_type": "code",
   "execution_count": 71,
   "id": "bfcb5d65-920e-4ddc-bc0e-17e580585b0f",
   "metadata": {},
   "outputs": [
    {
     "data": {
      "text/html": [
       "<div>\n",
       "<style scoped>\n",
       "    .dataframe tbody tr th:only-of-type {\n",
       "        vertical-align: middle;\n",
       "    }\n",
       "\n",
       "    .dataframe tbody tr th {\n",
       "        vertical-align: top;\n",
       "    }\n",
       "\n",
       "    .dataframe thead th {\n",
       "        text-align: right;\n",
       "    }\n",
       "</style>\n",
       "<table border=\"1\" class=\"dataframe\">\n",
       "  <thead>\n",
       "    <tr style=\"text-align: right;\">\n",
       "      <th></th>\n",
       "      <th>Code Postal</th>\n",
       "      <th>Commune</th>\n",
       "      <th>Département</th>\n",
       "      <th>Région</th>\n",
       "      <th>Statut</th>\n",
       "      <th>Altitude Moyenne</th>\n",
       "      <th>Superficie</th>\n",
       "      <th>Population</th>\n",
       "      <th>geo_point_2d</th>\n",
       "      <th>geo_shape</th>\n",
       "      <th>CP Ville</th>\n",
       "      <th>Latitude</th>\n",
       "      <th>Longitude</th>\n",
       "      <th>longueur</th>\n",
       "      <th>compose</th>\n",
       "    </tr>\n",
       "    <tr>\n",
       "      <th>Code INSEE</th>\n",
       "      <th></th>\n",
       "      <th></th>\n",
       "      <th></th>\n",
       "      <th></th>\n",
       "      <th></th>\n",
       "      <th></th>\n",
       "      <th></th>\n",
       "      <th></th>\n",
       "      <th></th>\n",
       "      <th></th>\n",
       "      <th></th>\n",
       "      <th></th>\n",
       "      <th></th>\n",
       "      <th></th>\n",
       "      <th></th>\n",
       "    </tr>\n",
       "  </thead>\n",
       "  <tbody>\n",
       "    <tr>\n",
       "      <th>01001</th>\n",
       "      <td>01400</td>\n",
       "      <td>L'ABERGEMENT-CLEMENCIAT</td>\n",
       "      <td>AIN</td>\n",
       "      <td>RHONE-ALPES</td>\n",
       "      <td>Commune simple</td>\n",
       "      <td>242</td>\n",
       "      <td>15.65</td>\n",
       "      <td>0.8</td>\n",
       "      <td>46.1534255214, 4.92611354223</td>\n",
       "      <td>{\"type\": \"Polygon\", \"coordinates\": [[[4.926273...</td>\n",
       "      <td>01400 L'ABERGEMENT-CLEMENCIAT</td>\n",
       "      <td>46.153426</td>\n",
       "      <td>4.926114</td>\n",
       "      <td>23</td>\n",
       "      <td>True</td>\n",
       "    </tr>\n",
       "    <tr>\n",
       "      <th>01002</th>\n",
       "      <td>01640</td>\n",
       "      <td>L'ABERGEMENT-DE-VAREY</td>\n",
       "      <td>AIN</td>\n",
       "      <td>RHONE-ALPES</td>\n",
       "      <td>Commune simple</td>\n",
       "      <td>483</td>\n",
       "      <td>9.12</td>\n",
       "      <td>0.2</td>\n",
       "      <td>46.0091878776, 5.42801696363</td>\n",
       "      <td>{\"type\": \"Polygon\", \"coordinates\": [[[5.430089...</td>\n",
       "      <td>01640 L'ABERGEMENT-DE-VAREY</td>\n",
       "      <td>46.009188</td>\n",
       "      <td>5.428017</td>\n",
       "      <td>21</td>\n",
       "      <td>True</td>\n",
       "    </tr>\n",
       "    <tr>\n",
       "      <th>01004</th>\n",
       "      <td>01500</td>\n",
       "      <td>AMBERIEU-EN-BUGEY</td>\n",
       "      <td>AIN</td>\n",
       "      <td>RHONE-ALPES</td>\n",
       "      <td>Chef-lieu canton</td>\n",
       "      <td>379</td>\n",
       "      <td>24.48</td>\n",
       "      <td>13.4</td>\n",
       "      <td>45.9608475114, 5.3729257777</td>\n",
       "      <td>{\"type\": \"Polygon\", \"coordinates\": [[[5.386190...</td>\n",
       "      <td>01500 AMBERIEU-EN-BUGEY</td>\n",
       "      <td>45.960848</td>\n",
       "      <td>5.372926</td>\n",
       "      <td>17</td>\n",
       "      <td>True</td>\n",
       "    </tr>\n",
       "    <tr>\n",
       "      <th>01005</th>\n",
       "      <td>01330</td>\n",
       "      <td>AMBERIEUX-EN-DOMBES</td>\n",
       "      <td>AIN</td>\n",
       "      <td>RHONE-ALPES</td>\n",
       "      <td>Commune simple</td>\n",
       "      <td>290</td>\n",
       "      <td>16.05</td>\n",
       "      <td>1.6</td>\n",
       "      <td>45.9961799872, 4.91227250796</td>\n",
       "      <td>{\"type\": \"Polygon\", \"coordinates\": [[[4.895580...</td>\n",
       "      <td>01330 AMBERIEUX-EN-DOMBES</td>\n",
       "      <td>45.996180</td>\n",
       "      <td>4.912273</td>\n",
       "      <td>19</td>\n",
       "      <td>True</td>\n",
       "    </tr>\n",
       "    <tr>\n",
       "      <th>01006</th>\n",
       "      <td>01300</td>\n",
       "      <td>AMBLEON</td>\n",
       "      <td>AIN</td>\n",
       "      <td>RHONE-ALPES</td>\n",
       "      <td>Commune simple</td>\n",
       "      <td>589</td>\n",
       "      <td>6.02</td>\n",
       "      <td>0.1</td>\n",
       "      <td>45.7494989044, 5.59432017366</td>\n",
       "      <td>{\"type\": \"Polygon\", \"coordinates\": [[[5.614854...</td>\n",
       "      <td>01300 AMBLEON</td>\n",
       "      <td>45.749499</td>\n",
       "      <td>5.594320</td>\n",
       "      <td>7</td>\n",
       "      <td>False</td>\n",
       "    </tr>\n",
       "  </tbody>\n",
       "</table>\n",
       "</div>"
      ],
      "text/plain": [
       "           Code Postal                  Commune Département       Région  \\\n",
       "Code INSEE                                                                 \n",
       "01001            01400  L'ABERGEMENT-CLEMENCIAT         AIN  RHONE-ALPES   \n",
       "01002            01640    L'ABERGEMENT-DE-VAREY         AIN  RHONE-ALPES   \n",
       "01004            01500        AMBERIEU-EN-BUGEY         AIN  RHONE-ALPES   \n",
       "01005            01330      AMBERIEUX-EN-DOMBES         AIN  RHONE-ALPES   \n",
       "01006            01300                  AMBLEON         AIN  RHONE-ALPES   \n",
       "\n",
       "                      Statut  Altitude Moyenne  Superficie  Population  \\\n",
       "Code INSEE                                                               \n",
       "01001         Commune simple               242       15.65         0.8   \n",
       "01002         Commune simple               483        9.12         0.2   \n",
       "01004       Chef-lieu canton               379       24.48        13.4   \n",
       "01005         Commune simple               290       16.05         1.6   \n",
       "01006         Commune simple               589        6.02         0.1   \n",
       "\n",
       "                            geo_point_2d  \\\n",
       "Code INSEE                                 \n",
       "01001       46.1534255214, 4.92611354223   \n",
       "01002       46.0091878776, 5.42801696363   \n",
       "01004        45.9608475114, 5.3729257777   \n",
       "01005       45.9961799872, 4.91227250796   \n",
       "01006       45.7494989044, 5.59432017366   \n",
       "\n",
       "                                                    geo_shape  \\\n",
       "Code INSEE                                                      \n",
       "01001       {\"type\": \"Polygon\", \"coordinates\": [[[4.926273...   \n",
       "01002       {\"type\": \"Polygon\", \"coordinates\": [[[5.430089...   \n",
       "01004       {\"type\": \"Polygon\", \"coordinates\": [[[5.386190...   \n",
       "01005       {\"type\": \"Polygon\", \"coordinates\": [[[4.895580...   \n",
       "01006       {\"type\": \"Polygon\", \"coordinates\": [[[5.614854...   \n",
       "\n",
       "                                 CP Ville   Latitude  Longitude  longueur  \\\n",
       "Code INSEE                                                                  \n",
       "01001       01400 L'ABERGEMENT-CLEMENCIAT  46.153426   4.926114        23   \n",
       "01002         01640 L'ABERGEMENT-DE-VAREY  46.009188   5.428017        21   \n",
       "01004             01500 AMBERIEU-EN-BUGEY  45.960848   5.372926        17   \n",
       "01005           01330 AMBERIEUX-EN-DOMBES  45.996180   4.912273        19   \n",
       "01006                       01300 AMBLEON  45.749499   5.594320         7   \n",
       "\n",
       "            compose  \n",
       "Code INSEE           \n",
       "01001          True  \n",
       "01002          True  \n",
       "01004          True  \n",
       "01005          True  \n",
       "01006         False  "
      ]
     },
     "execution_count": 71,
     "metadata": {},
     "output_type": "execute_result"
    }
   ],
   "source": [
    "df[\"longueur\"] = df[\"Commune\"].str.len()\n",
    "df[\"compose\"] = df[\"Commune\"].str.contains(r\"\\W\")\n",
    "df.head()"
   ]
  },
  {
   "cell_type": "code",
   "execution_count": 70,
   "id": "7d9e701d-fb64-4487-bc37-176a3b320965",
   "metadata": {},
   "outputs": [
    {
     "data": {
      "image/png": "[encoded data removed]",
      "text/plain": [
       "<Figure size 640x480 with 1 Axes>"
      ]
     },
     "metadata": {},
     "output_type": "display_data"
    }
   ],
   "source": [
    "import seaborn as sns\n",
    "\n",
    "sns.histplot(data=df, x=\"longueur\", hue=\"compose\");"
   ]
  },
  {
   "cell_type": "code",
   "execution_count": 74,
   "id": "f1897e1a-bd8d-4013-ace1-ab83d659c4fa",
   "metadata": {},
   "outputs": [
    {
     "data": {
      "image/png": "[encoded data removed]",
      "text/plain": [
       "<Figure size 640x480 with 1 Axes>"
      ]
     },
     "metadata": {},
     "output_type": "display_data"
    }
   ],
   "source": [
    "import matplotlib.pyplot as plt\n",
    "\n",
    "plt.scatter(df[\"Longitude\"], df[\"Latitude\"]);"
   ]
  },
  {
   "cell_type": "code",
   "execution_count": 76,
   "id": "b7ccb2ae-7eb1-43d2-9dec-764be6b19ad3",
   "metadata": {},
   "outputs": [
    {
     "data": {
      "image/png": "[encoded data removed]",
      "text/plain": [
       "<Figure size 640x480 with 1 Axes>"
      ]
     },
     "metadata": {},
     "output_type": "display_data"
    }
   ],
   "source": [
    "metro = df.loc[df[\"Latitude\"] > 40]\n",
    "plt.scatter(metro[\"Longitude\"], metro[\"Latitude\"], s=3);"
   ]
  },
  {
   "cell_type": "code",
   "execution_count": 83,
   "id": "a5c31c78-9bfe-4c1b-8dc3-460b8cdf53f8",
   "metadata": {},
   "outputs": [
    {
     "data": {
      "image/png": "[encoded data removed]",
      "text/plain": [
       "<Figure size 640x480 with 1 Axes>"
      ]
     },
     "metadata": {},
     "output_type": "display_data"
    }
   ],
   "source": [
    "fig, ax = plt.subplots()\n",
    "metro = metro.sort_values(\"Altitude Moyenne\")\n",
    "metro1 = metro.loc[metro[\"Altitude Moyenne\"] < 1000]\n",
    "ax.scatter(metro1[\"Longitude\"], metro1[\"Latitude\"], s=3, c=\"b\")\n",
    "metro2 = metro.loc[metro[\"Altitude Moyenne\"] >= 1000]\n",
    "ax.scatter(metro2[\"Longitude\"], metro2[\"Latitude\"], s=3, c=\"r\");"
   ]
  },
  {
   "cell_type": "code",
   "execution_count": 86,
   "id": "72c45df3-2a62-4a93-8ee0-95d49fd4e7f8",
   "metadata": {},
   "outputs": [],
   "source": [
    "def display(mot1, mot2):\n",
    "    pattern = f\"-{mot1}-{mot2}\"  # f-string\n",
    "    selection = metro.loc[metro[\"Commune\"].str.endswith(pattern)]\n",
    "    fig, ax = plt.subplots()\n",
    "    ax.scatter(metro[\"Longitude\"], metro[\"Latitude\"], s=3, c=\"lightgrey\")\n",
    "    ax.scatter(selection[\"Longitude\"], selection[\"Latitude\"], s=3, c=\"lightgreen\")"
   ]
  },
  {
   "cell_type": "code",
   "execution_count": 90,
   "id": "be586d56-d189-4916-91e3-06b0f3caa36e",
   "metadata": {},
   "outputs": [
    {
     "data": {
      "image/png": "[encoded data removed]",
      "text/plain": [
       "<Figure size 640x480 with 1 Axes>"
      ]
     },
     "metadata": {},
     "output_type": "display_data"
    }
   ],
   "source": [
    "display(\"SUR\", \"LOIRE\")"
   ]
  },
  {
   "cell_type": "code",
   "execution_count": 95,
   "id": "f49d3e9e-8a4a-4ee5-b9bf-c0d364dc39b3",
   "metadata": {},
   "outputs": [
    {
     "data": {
      "image/png": "[encoded data removed]",
      "text/plain": [
       "<Figure size 640x480 with 2 Axes>"
      ]
     },
     "metadata": {},
     "output_type": "display_data"
    }
   ],
   "source": [
    "plt.scatter(metro[\"Longitude\"],\n",
    "            metro[\"Latitude\"],\n",
    "            s=3,\n",
    "            c=metro[\"Altitude Moyenne\"],\n",
    "            cmap=\"Spectral_r\")\n",
    "plt.colorbar();"
   ]
  },
  {
   "cell_type": "code",
   "execution_count": null,
   "id": "c1a34c59-ea8c-4783-8926-dcac75976f01",
   "metadata": {},
   "outputs": [],
   "source": []
  },
  {
   "cell_type": "code",
   "execution_count": null,
   "id": "73266f42-67da-4561-b6f3-5f6da98d923f",
   "metadata": {},
   "outputs": [],
   "source": []
  },
  {
   "cell_type": "markdown",
   "id": "9ca62f9c-386a-4b46-acf3-a85ec4f18e30",
   "metadata": {},
   "source": [
    "### Tests"
   ]
  },
  {
   "cell_type": "code",
   "execution_count": 45,
   "id": "3b7abafc-d0b3-4238-b71b-b1a7f44c1363",
   "metadata": {},
   "outputs": [],
   "source": [
    "# tests unitaires de la fonction lecture_geo\n",
    "\n",
    "import unittest\n",
    "\n",
    "class Session1Test(unittest.TestCase):\n",
    "    \"\"\"\n",
    "    Tests unitaires du chargement du fichier :\n",
    "    correspondance-code-insee-code-postal.csv\n",
    "    \"\"\"\n",
    "        \n",
    "    def test_1_dataframe(self):\n",
    "        df = lecture_geo()\n",
    "        self.assertTrue(isinstance(df, pd.DataFrame))\n",
    "        \n",
    "    def test_2_columns(self):\n",
    "        df = lecture_geo()\n",
    "        self.assertEqual(len(df.columns), 10)\n",
    "        \n",
    "    def test_3_index(self):\n",
    "        df = lecture_geo()\n",
    "        self.assertTrue(isinstance(df.index, pd.Index))\n",
    "        \n",
    "    def test_4_index_name(self):\n",
    "        df = lecture_geo()\n",
    "        self.assertEqual(df.index.name, \"Code INSEE\")\n",
    "        \n",
    "    def test_5_index_sort(self):\n",
    "        df = lecture_geo()\n",
    "        self.assertEqual(df.index.min(), df.index[0])\n",
    "        self.assertEqual(df.index.max(), df.index[-1])"
   ]
  },
  {
   "cell_type": "code",
   "execution_count": 46,
   "id": "d331653b-bbbe-4dd6-9ab8-14c3ff00038c",
   "metadata": {},
   "outputs": [],
   "source": [
    "# fonction run_tests\n",
    "def run_tests():\n",
    "    test_suite = unittest.TestLoader().loadTestsFromTestCase(Session1Test)\n",
    "    runner = unittest.TextTestRunner(verbosity=2)\n",
    "    runner.run(test_suite)"
   ]
  },
  {
   "cell_type": "code",
   "execution_count": 47,
   "id": "8cf0dc25-4baa-4fa4-824f-5dff90486b3b",
   "metadata": {},
   "outputs": [
    {
     "name": "stderr",
     "output_type": "stream",
     "text": [
      "test_1_dataframe (__main__.Session1Test.test_1_dataframe) ... ok\n",
      "test_2_columns (__main__.Session1Test.test_2_columns) ... ok\n",
      "test_3_index (__main__.Session1Test.test_3_index) ... ok\n",
      "test_4_index_name (__main__.Session1Test.test_4_index_name) ... ok\n",
      "test_5_index_sort (__main__.Session1Test.test_5_index_sort) ... ok\n",
      "\n",
      "----------------------------------------------------------------------\n",
      "Ran 5 tests in 1.411s\n",
      "\n",
      "OK\n"
     ]
    }
   ],
   "source": [
    "# run tests\n",
    "run_tests()"
   ]
  }
 ],
 "metadata": {
  "kernelspec": {
   "display_name": "Python 3 (ipykernel)",
   "language": "python",
   "name": "python3"
  },
  "language_info": {
   "codemirror_mode": {
    "name": "ipython",
    "version": 3
   },
   "file_extension": ".py",
   "mimetype": "text/x-python",
   "name": "python",
   "nbconvert_exporter": "python",
   "pygments_lexer": "ipython3",
   "version": "3.12.10"
  }
 },
 "nbformat": 4,
 "nbformat_minor": 5
}
