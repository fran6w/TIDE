{
 "cells": [
  {
   "cell_type": "markdown",
   "id": "10e35297",
   "metadata": {},
   "source": [
    "# Conférences Python Master TIDE #3\n",
    "\n",
    "## A) Taux de change\n",
    "\n",
    "On va s'intéresser au dataset des cours des devises de la Banque de France :\n",
    "- https://webstat.banque-france.fr/fr/#/node/5385566\n",
    "\n",
    "Les données sont dans le fichier `Webstat_Export.csv`.\n",
    "\n",
    "L'idée est de charger les données, de les nettoyer et de pouvoir accéder aux cours de certaines devises à partir de leur code ISO3. On retiendra uniquement les colonnes se terminant effectivement par un code ISO3 entre parenthèses. Par ex., \"Dollar des Etats-Unis (USD)\".\n",
    "\n",
    "1) Charger le fichier dans un DataFrame dont l'index doit correspondre aux dates, triées dans l'ordre chronologique et les colonnes doivent être les codes ISO3 des devises.\n",
    "\n",
    "2) Sélectionner les devises : ['USD', 'CHF', 'GBP', 'JPY', 'TRY', 'CNY']\n",
    "\n",
    "3) Calculer la moyenne des taux de change par année. Voir les codes de resampling : https://pandas.pydata.org/pandas-docs/stable/user_guide/timeseries.html#dateoffset-objects\n",
    "\n",
    "4) Faire des graphiques avec :\n",
    "- Les taux de change divisés par leur moyenne.\n",
    "- Les taux de change divisés par leur moyenne avec une moyenne glissante de 30 jours ou bien un maximum glissant de 100 jours.\n",
    "- Les taux de change divisés par la dernière valeur connue avec une moyenne glissante de 30 jours.\n",
    "\n",
    "5) Réindexer le DataFrame en prenant toutes les dates et compléter les valeurs manquantes par interpolation linéaire.\n",
    "\n",
    "6) Avec la librairie **sparklines** afficher un DataFrame avec la moyenne annuelle des taux de change pour une monnaie donnée ainsi que la tendance par trimestre.\n",
    "\n",
    "```python\n",
    "import sparklines\n",
    "\n",
    "print(sparklines.sparklines(pd.Series(range(8)))[0])\n",
    "```\n",
    "\n",
    "## B) Données télécom\n",
    "\n",
    "Dataset des opérateurs télécom : `couverture-2g-3g-4g-en-france-par-operateur-juillet-2015.csv`\n",
    "\n",
    "1) Chargez le fichier dans un DataFrame.\n",
    "\n",
    "2) Transformez ce DataFrame large en un DataFrame long en isolant les colonnes d'identification d'une part et les colonnes de valeurs de couverture d'autre part.\n",
    "\n",
    "3) Rajoutez 3 colonnes \"Opérateur\", \"Type Couverture\" et \"Réseau\" calculées à partir de la colonne \"variable\" obtenue en 2.\n",
    "\n",
    "4) Chargez le DataFrame des communes déjà utilisé et effectuez une jointure sur le code INSEE.\n",
    "\n",
    "6) Pour le réseau 4G et la couverture surfacique, calculez la moyenne des couvertures par statut de commune et par opérateur. Pour quel couple (statut, opérateur) a-t-on la moyenne de la couverture la plus faible ?\n",
    "\n",
    "## C) Données de formations\n",
    "\n",
    "Dataset : `ListeOF.zip`\n",
    "\n",
    "1) Charger le fichier dans un DataFrame.\n",
    "\n",
    "2) A partir du nombre de valeurs non nulles des colonnes, styliser un DataFrame avec une barre de couleur.\n",
    "\n",
    "3) A partir du pourcentage de remplissage des colonnes arrondi à un chiffre, styliser un DataFrame avec une colormap.\n",
    "\n",
    "&copy; Francis Wolinski 2025"
   ]
  }
 ],
 "metadata": {
  "kernelspec": {
   "display_name": "Python 3 (ipykernel)",
   "language": "python",
   "name": "python3"
  },
  "language_info": {
   "codemirror_mode": {
    "name": "ipython",
    "version": 3
   },
   "file_extension": ".py",
   "mimetype": "text/x-python",
   "name": "python",
   "nbconvert_exporter": "python",
   "pygments_lexer": "ipython3",
   "version": "3.12.10"
  }
 },
 "nbformat": 4,
 "nbformat_minor": 5
}
